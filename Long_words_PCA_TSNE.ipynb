{
  "nbformat": 4,
  "nbformat_minor": 0,
  "metadata": {
    "colab": {
      "name": "Long_words_PCA_TSNE.ipynb",
      "provenance": [],
      "authorship_tag": "ABX9TyNUyW9cpPGB5YhcyGOQQ535",
      "include_colab_link": true
    },
    "kernelspec": {
      "name": "python3",
      "display_name": "Python 3"
    }
  },
  "cells": [
    {
      "cell_type": "markdown",
      "metadata": {
        "id": "view-in-github",
        "colab_type": "text"
      },
      "source": [
        "<a href=\"https://colab.research.google.com/github/Syed-Osama-Hussain/Imagined-Speech-Prediction-from-EEG/blob/master/Long_words_PCA_TSNE.ipynb\" target=\"_parent\"><img src=\"https://colab.research.google.com/assets/colab-badge.svg\" alt=\"Open In Colab\"/></a>"
      ]
    },
    {
      "cell_type": "code",
      "metadata": {
        "id": "_tm1CkyrHC_O"
      },
      "source": [
        "import numpy as np\r\n",
        "import tensorflow as tf\r\n",
        "import scipy.io\r\n",
        "import scipy.interpolate\r\n",
        "import os\r\n",
        "import keras as ks\r\n",
        "from keras.models import Sequential\r\n",
        "from keras.layers import Dense, Conv1D, Flatten, MaxPooling1D, LSTM, Dropout, Input, Reshape, GRU\r\n",
        "from sklearn.utils import shuffle\r\n",
        "from sklearn.metrics import confusion_matrix\r\n",
        "import matplotlib \r\n",
        "import matplotlib.pyplot as plt\r\n",
        "import seaborn as sns\r\n",
        "from keras.layers.merge import concatenate\r\n",
        "from keras.utils import plot_model\r\n",
        "from keras.models import Model, load_model\r\n",
        "import keras.backend as K\r\n",
        "from tensorflow.keras.optimizers import Adam"
      ],
      "execution_count": 1,
      "outputs": []
    },
    {
      "cell_type": "code",
      "metadata": {
        "colab": {
          "base_uri": "https://localhost:8080/"
        },
        "id": "jLvAmH3zJYjt",
        "outputId": "810a95cb-ebd9-4052-d12f-9ed28db4dc9c"
      },
      "source": [
        "from google.colab import drive\r\n",
        "drive.mount('/content/drive', force_remount=True)"
      ],
      "execution_count": 2,
      "outputs": [
        {
          "output_type": "stream",
          "text": [
            "Mounted at /content/drive\n"
          ],
          "name": "stdout"
        }
      ]
    },
    {
      "cell_type": "code",
      "metadata": {
        "id": "NP8hbh9BJeYs"
      },
      "source": [
        "def covariance(matrix):\r\n",
        "  # matrix = matrix[[2,3,5,36,37,38], :]\r\n",
        "  matrix = np.delete(matrix,(0,9,32,63), 0)\r\n",
        "  res_mat = (np.cov(matrix,bias=True))\r\n",
        "  return res_mat"
      ],
      "execution_count": 3,
      "outputs": []
    },
    {
      "cell_type": "code",
      "metadata": {
        "id": "O0ZSYz43Js66"
      },
      "source": [
        "def loadMatrices(dir):\r\n",
        "  matrices_c1 = []\r\n",
        "  matrices_c2 = []\r\n",
        "  for root,sub,files in os.walk(dir):\r\n",
        "    for f in sorted(files):\r\n",
        "      mat_file  =  scipy.io.loadmat(os.path.join(root, f))\r\n",
        "      end_trial = mat_file['eeg_data_wrt_task_rep_no_eog_256Hz_end_trial']\r\n",
        "      last_beep = mat_file['eeg_data_wrt_task_rep_no_eog_256Hz_last_beep']\r\n",
        "      matrices_c1.extend([covariance(matrix) for matrix in last_beep[0]])\r\n",
        "      matrices_c2.extend([covariance(matrix) for matrix in last_beep[1]])\r\n",
        "  return np.concatenate((np.array(matrices_c1),np.array(matrices_c2)),axis=0)\r\n"
      ],
      "execution_count": 4,
      "outputs": []
    },
    {
      "cell_type": "code",
      "metadata": {
        "id": "9ej_Cz-cJ36J"
      },
      "source": [
        "data = loadMatrices(\"drive/My Drive/dataset/Long_words/\")"
      ],
      "execution_count": 5,
      "outputs": []
    },
    {
      "cell_type": "code",
      "metadata": {
        "colab": {
          "base_uri": "https://localhost:8080/"
        },
        "id": "kmY6jwMXJ7-A",
        "outputId": "58e616b9-6948-480a-b942-1e68d20ac96c"
      },
      "source": [
        "print(data.shape)"
      ],
      "execution_count": 6,
      "outputs": [
        {
          "output_type": "stream",
          "text": [
            "(1000, 60, 60)\n"
          ],
          "name": "stdout"
        }
      ]
    },
    {
      "cell_type": "code",
      "metadata": {
        "colab": {
          "base_uri": "https://localhost:8080/"
        },
        "id": "Rjf0fBUXKIke",
        "outputId": "a8dfbd1a-d2a2-437b-8aac-604f3c3e01e6"
      },
      "source": [
        "labels = np.concatenate((np.zeros(500),np.ones(500)),axis=0)\r\n",
        "print(labels.shape)"
      ],
      "execution_count": 7,
      "outputs": [
        {
          "output_type": "stream",
          "text": [
            "(1000,)\n"
          ],
          "name": "stdout"
        }
      ]
    },
    {
      "cell_type": "code",
      "metadata": {
        "colab": {
          "base_uri": "https://localhost:8080/"
        },
        "id": "Y0Pab1jfKK5h",
        "outputId": "3c498257-6f28-4aa1-8dfe-efd2dd30d4aa"
      },
      "source": [
        "from keras.utils.np_utils import to_categorical\r\n",
        "labels = to_categorical(labels, num_classes=2)\r\n",
        "print(labels.shape,labels)"
      ],
      "execution_count": 8,
      "outputs": [
        {
          "output_type": "stream",
          "text": [
            "(1000, 2) [[1. 0.]\n",
            " [1. 0.]\n",
            " [1. 0.]\n",
            " ...\n",
            " [0. 1.]\n",
            " [0. 1.]\n",
            " [0. 1.]]\n"
          ],
          "name": "stdout"
        }
      ]
    },
    {
      "cell_type": "code",
      "metadata": {
        "colab": {
          "base_uri": "https://localhost:8080/"
        },
        "id": "4wq0gNesKOI6",
        "outputId": "8934927a-be3a-4dc4-cee0-e0d1463499b9"
      },
      "source": [
        "#CNN\r\n",
        "visible = Input(shape=(60,60))\r\n",
        "cov1 = Conv1D(filters=60, kernel_size=2, activation=\"relu\")(visible)\r\n",
        "dropout1 = Dropout(0.25)(cov1)\r\n",
        "cov2 = Conv1D(filters=60, kernel_size=4, activation=\"relu\")(dropout1)\r\n",
        "dropout2 = Dropout(0.5)(cov2)\r\n",
        "newShape = Reshape((56,60), name='newReshape')(dropout2)\r\n",
        "f1 = Flatten()(newShape)\r\n",
        "d1 = Dense(120, activation='relu')(f1)\r\n",
        "d2 = Dense(120, activation='relu')(d1)\r\n",
        "output = Dense(2, activation='softmax')(d2)\r\n",
        "model = Model(inputs=visible, outputs=output)\r\n",
        "model.summary()"
      ],
      "execution_count": 10,
      "outputs": [
        {
          "output_type": "stream",
          "text": [
            "Model: \"model_1\"\n",
            "_________________________________________________________________\n",
            "Layer (type)                 Output Shape              Param #   \n",
            "=================================================================\n",
            "input_2 (InputLayer)         [(None, 60, 60)]          0         \n",
            "_________________________________________________________________\n",
            "conv1d_2 (Conv1D)            (None, 59, 60)            7260      \n",
            "_________________________________________________________________\n",
            "dropout_2 (Dropout)          (None, 59, 60)            0         \n",
            "_________________________________________________________________\n",
            "conv1d_3 (Conv1D)            (None, 56, 60)            14460     \n",
            "_________________________________________________________________\n",
            "dropout_3 (Dropout)          (None, 56, 60)            0         \n",
            "_________________________________________________________________\n",
            "newReshape (Reshape)         (None, 56, 60)            0         \n",
            "_________________________________________________________________\n",
            "flatten_1 (Flatten)          (None, 3360)              0         \n",
            "_________________________________________________________________\n",
            "dense_3 (Dense)              (None, 120)               403320    \n",
            "_________________________________________________________________\n",
            "dense_4 (Dense)              (None, 120)               14520     \n",
            "_________________________________________________________________\n",
            "dense_5 (Dense)              (None, 2)                 242       \n",
            "=================================================================\n",
            "Total params: 439,802\n",
            "Trainable params: 439,802\n",
            "Non-trainable params: 0\n",
            "_________________________________________________________________\n"
          ],
          "name": "stdout"
        }
      ]
    },
    {
      "cell_type": "code",
      "metadata": {
        "id": "EviqOe5fKWPh"
      },
      "source": [
        "optimizer = Adam(learning_rate=0.00001)\r\n",
        "model.compile(optimizer=optimizer, loss='categorical_crossentropy', metrics=['accuracy'])"
      ],
      "execution_count": 11,
      "outputs": []
    },
    {
      "cell_type": "code",
      "metadata": {
        "id": "yJu-7QZDKfqI"
      },
      "source": [
        "data, labels = shuffle(data, labels)"
      ],
      "execution_count": 12,
      "outputs": []
    },
    {
      "cell_type": "code",
      "metadata": {
        "id": "TJv2mJrNKjVw"
      },
      "source": [
        "divide_percent = int(len(data)*0.2)\r\n",
        "y_test = labels[0:divide_percent]\r\n",
        "x_test = data[0:divide_percent]\r\n",
        "train_data = data[divide_percent:len(data)]\r\n",
        "train_labels = labels[divide_percent:len(labels)]"
      ],
      "execution_count": 13,
      "outputs": []
    },
    {
      "cell_type": "code",
      "metadata": {
        "colab": {
          "base_uri": "https://localhost:8080/"
        },
        "id": "OvBnynzSKmG8",
        "outputId": "fd5b8116-a252-42b2-9f09-0bd24c5c2801"
      },
      "source": [
        "print(y_test.shape,x_test.shape,train_data.shape,train_labels.shape)"
      ],
      "execution_count": 14,
      "outputs": [
        {
          "output_type": "stream",
          "text": [
            "(200, 2) (200, 60, 60) (800, 60, 60) (800, 2)\n"
          ],
          "name": "stdout"
        }
      ]
    },
    {
      "cell_type": "code",
      "metadata": {
        "colab": {
          "base_uri": "https://localhost:8080/"
        },
        "id": "kkipqSQEKoka",
        "outputId": "6d10132d-dbbe-4e3b-ce85-ab508605b145"
      },
      "source": [
        "train_data, train_labels = shuffle(train_data, train_labels)\r\n",
        "model.fit(train_data,train_labels,validation_data=(x_test,y_test),batch_size=64,epochs=100,verbose=1)"
      ],
      "execution_count": 15,
      "outputs": [
        {
          "output_type": "stream",
          "text": [
            "Epoch 1/100\n",
            "13/13 [==============================] - 2s 69ms/step - loss: 11.2984 - accuracy: 0.4904 - val_loss: 1.2048 - val_accuracy: 0.5700\n",
            "Epoch 2/100\n",
            "13/13 [==============================] - 0s 30ms/step - loss: 8.8053 - accuracy: 0.5028 - val_loss: 1.3089 - val_accuracy: 0.5300\n",
            "Epoch 3/100\n",
            "13/13 [==============================] - 0s 30ms/step - loss: 9.1949 - accuracy: 0.4828 - val_loss: 1.1706 - val_accuracy: 0.5500\n",
            "Epoch 4/100\n",
            "13/13 [==============================] - 0s 31ms/step - loss: 8.3883 - accuracy: 0.4692 - val_loss: 1.5608 - val_accuracy: 0.5800\n",
            "Epoch 5/100\n",
            "13/13 [==============================] - 0s 31ms/step - loss: 8.2764 - accuracy: 0.4936 - val_loss: 1.6491 - val_accuracy: 0.5650\n",
            "Epoch 6/100\n",
            "13/13 [==============================] - 0s 32ms/step - loss: 8.2542 - accuracy: 0.4845 - val_loss: 1.2674 - val_accuracy: 0.5650\n",
            "Epoch 7/100\n",
            "13/13 [==============================] - 0s 31ms/step - loss: 7.4156 - accuracy: 0.4952 - val_loss: 1.1290 - val_accuracy: 0.5400\n",
            "Epoch 8/100\n",
            "13/13 [==============================] - 0s 31ms/step - loss: 6.8665 - accuracy: 0.4773 - val_loss: 1.1379 - val_accuracy: 0.5400\n",
            "Epoch 9/100\n",
            "13/13 [==============================] - 0s 32ms/step - loss: 19.0274 - accuracy: 0.4715 - val_loss: 1.3449 - val_accuracy: 0.5700\n",
            "Epoch 10/100\n",
            "13/13 [==============================] - 0s 31ms/step - loss: 11.3209 - accuracy: 0.5275 - val_loss: 2.3109 - val_accuracy: 0.5550\n",
            "Epoch 11/100\n",
            "13/13 [==============================] - 1s 42ms/step - loss: 12.1110 - accuracy: 0.5184 - val_loss: 3.1274 - val_accuracy: 0.5700\n",
            "Epoch 12/100\n",
            "13/13 [==============================] - 0s 31ms/step - loss: 7.3931 - accuracy: 0.4862 - val_loss: 2.8584 - val_accuracy: 0.5700\n",
            "Epoch 13/100\n",
            "13/13 [==============================] - 0s 32ms/step - loss: 6.7403 - accuracy: 0.5389 - val_loss: 2.6104 - val_accuracy: 0.5700\n",
            "Epoch 14/100\n",
            "13/13 [==============================] - 0s 31ms/step - loss: 22.2942 - accuracy: 0.5050 - val_loss: 3.0689 - val_accuracy: 0.5600\n",
            "Epoch 15/100\n",
            "13/13 [==============================] - 0s 30ms/step - loss: 8.1316 - accuracy: 0.4838 - val_loss: 3.2306 - val_accuracy: 0.5600\n",
            "Epoch 16/100\n",
            "13/13 [==============================] - 0s 31ms/step - loss: 7.3224 - accuracy: 0.4931 - val_loss: 3.1067 - val_accuracy: 0.5650\n",
            "Epoch 17/100\n",
            "13/13 [==============================] - 0s 30ms/step - loss: 7.7822 - accuracy: 0.4882 - val_loss: 2.8420 - val_accuracy: 0.5600\n",
            "Epoch 18/100\n",
            "13/13 [==============================] - 0s 31ms/step - loss: 21.2058 - accuracy: 0.5024 - val_loss: 3.4812 - val_accuracy: 0.5700\n",
            "Epoch 19/100\n",
            "13/13 [==============================] - 0s 31ms/step - loss: 7.2517 - accuracy: 0.5365 - val_loss: 3.6399 - val_accuracy: 0.5750\n",
            "Epoch 20/100\n",
            "13/13 [==============================] - 0s 31ms/step - loss: 8.0177 - accuracy: 0.5138 - val_loss: 3.5292 - val_accuracy: 0.5750\n",
            "Epoch 21/100\n",
            "13/13 [==============================] - 0s 32ms/step - loss: 10.3567 - accuracy: 0.4852 - val_loss: 3.7882 - val_accuracy: 0.5800\n",
            "Epoch 22/100\n",
            "13/13 [==============================] - 0s 31ms/step - loss: 6.7814 - accuracy: 0.5090 - val_loss: 3.5947 - val_accuracy: 0.5750\n",
            "Epoch 23/100\n",
            "13/13 [==============================] - 0s 31ms/step - loss: 6.4195 - accuracy: 0.5186 - val_loss: 3.2248 - val_accuracy: 0.5750\n",
            "Epoch 24/100\n",
            "13/13 [==============================] - 0s 31ms/step - loss: 6.8324 - accuracy: 0.4823 - val_loss: 2.8648 - val_accuracy: 0.5750\n",
            "Epoch 25/100\n",
            "13/13 [==============================] - 0s 30ms/step - loss: 7.5465 - accuracy: 0.5005 - val_loss: 2.6944 - val_accuracy: 0.5750\n",
            "Epoch 26/100\n",
            "13/13 [==============================] - 0s 31ms/step - loss: 10.2335 - accuracy: 0.5365 - val_loss: 2.7648 - val_accuracy: 0.5750\n",
            "Epoch 27/100\n",
            "13/13 [==============================] - 0s 31ms/step - loss: 6.8107 - accuracy: 0.4922 - val_loss: 2.9969 - val_accuracy: 0.5750\n",
            "Epoch 28/100\n",
            "13/13 [==============================] - 0s 31ms/step - loss: 6.3550 - accuracy: 0.5454 - val_loss: 3.0683 - val_accuracy: 0.5750\n",
            "Epoch 29/100\n",
            "13/13 [==============================] - 0s 32ms/step - loss: 5.7632 - accuracy: 0.5301 - val_loss: 4.0025 - val_accuracy: 0.5800\n",
            "Epoch 30/100\n",
            "13/13 [==============================] - 0s 30ms/step - loss: 6.5414 - accuracy: 0.4829 - val_loss: 4.0775 - val_accuracy: 0.5800\n",
            "Epoch 31/100\n",
            "13/13 [==============================] - 0s 32ms/step - loss: 7.0077 - accuracy: 0.4969 - val_loss: 3.9121 - val_accuracy: 0.5800\n",
            "Epoch 32/100\n",
            "13/13 [==============================] - 0s 30ms/step - loss: 6.0745 - accuracy: 0.5056 - val_loss: 4.0394 - val_accuracy: 0.5800\n",
            "Epoch 33/100\n",
            "13/13 [==============================] - 0s 31ms/step - loss: 5.8459 - accuracy: 0.4963 - val_loss: 3.9494 - val_accuracy: 0.5800\n",
            "Epoch 34/100\n",
            "13/13 [==============================] - 0s 34ms/step - loss: 34.9086 - accuracy: 0.4782 - val_loss: 4.7839 - val_accuracy: 0.5800\n",
            "Epoch 35/100\n",
            "13/13 [==============================] - 0s 32ms/step - loss: 6.7728 - accuracy: 0.5237 - val_loss: 4.7883 - val_accuracy: 0.5800\n",
            "Epoch 36/100\n",
            "13/13 [==============================] - 0s 32ms/step - loss: 8.7007 - accuracy: 0.4937 - val_loss: 5.0430 - val_accuracy: 0.5800\n",
            "Epoch 37/100\n",
            "13/13 [==============================] - 0s 32ms/step - loss: 7.2235 - accuracy: 0.4881 - val_loss: 5.3138 - val_accuracy: 0.5800\n",
            "Epoch 38/100\n",
            "13/13 [==============================] - 0s 32ms/step - loss: 7.5659 - accuracy: 0.4883 - val_loss: 5.1636 - val_accuracy: 0.5800\n",
            "Epoch 39/100\n",
            "13/13 [==============================] - 0s 33ms/step - loss: 6.7263 - accuracy: 0.4732 - val_loss: 4.9225 - val_accuracy: 0.5800\n",
            "Epoch 40/100\n",
            "13/13 [==============================] - 0s 32ms/step - loss: 7.3552 - accuracy: 0.4902 - val_loss: 4.6723 - val_accuracy: 0.5800\n",
            "Epoch 41/100\n",
            "13/13 [==============================] - 0s 34ms/step - loss: 6.6290 - accuracy: 0.4946 - val_loss: 4.4969 - val_accuracy: 0.5800\n",
            "Epoch 42/100\n",
            "13/13 [==============================] - 0s 31ms/step - loss: 5.7670 - accuracy: 0.5208 - val_loss: 4.2922 - val_accuracy: 0.5800\n",
            "Epoch 43/100\n",
            "13/13 [==============================] - 0s 32ms/step - loss: 5.7862 - accuracy: 0.5307 - val_loss: 4.1396 - val_accuracy: 0.5800\n",
            "Epoch 44/100\n",
            "13/13 [==============================] - 0s 31ms/step - loss: 10.2591 - accuracy: 0.5227 - val_loss: 4.4117 - val_accuracy: 0.5800\n",
            "Epoch 45/100\n",
            "13/13 [==============================] - 0s 32ms/step - loss: 8.7232 - accuracy: 0.5049 - val_loss: 4.8957 - val_accuracy: 0.5800\n",
            "Epoch 46/100\n",
            "13/13 [==============================] - 0s 32ms/step - loss: 7.2707 - accuracy: 0.5053 - val_loss: 5.4065 - val_accuracy: 0.5800\n",
            "Epoch 47/100\n",
            "13/13 [==============================] - 0s 31ms/step - loss: 7.1900 - accuracy: 0.5241 - val_loss: 5.5772 - val_accuracy: 0.5800\n",
            "Epoch 48/100\n",
            "13/13 [==============================] - 0s 32ms/step - loss: 6.3520 - accuracy: 0.5271 - val_loss: 5.8441 - val_accuracy: 0.5800\n",
            "Epoch 49/100\n",
            "13/13 [==============================] - 0s 31ms/step - loss: 6.5453 - accuracy: 0.4899 - val_loss: 5.6815 - val_accuracy: 0.5800\n",
            "Epoch 50/100\n",
            "13/13 [==============================] - 0s 32ms/step - loss: 6.5439 - accuracy: 0.4762 - val_loss: 5.3843 - val_accuracy: 0.5800\n",
            "Epoch 51/100\n",
            "13/13 [==============================] - 0s 31ms/step - loss: 5.4268 - accuracy: 0.4754 - val_loss: 5.1033 - val_accuracy: 0.5800\n",
            "Epoch 52/100\n",
            "13/13 [==============================] - 0s 31ms/step - loss: 6.2860 - accuracy: 0.5274 - val_loss: 4.8729 - val_accuracy: 0.5800\n",
            "Epoch 53/100\n",
            "13/13 [==============================] - 0s 32ms/step - loss: 6.2451 - accuracy: 0.4985 - val_loss: 4.6688 - val_accuracy: 0.5800\n",
            "Epoch 54/100\n",
            "13/13 [==============================] - 0s 32ms/step - loss: 6.0170 - accuracy: 0.4784 - val_loss: 4.5305 - val_accuracy: 0.5800\n",
            "Epoch 55/100\n",
            "13/13 [==============================] - 1s 41ms/step - loss: 7.0923 - accuracy: 0.4974 - val_loss: 4.4294 - val_accuracy: 0.5800\n",
            "Epoch 56/100\n",
            "13/13 [==============================] - 0s 31ms/step - loss: 5.8276 - accuracy: 0.4994 - val_loss: 4.3068 - val_accuracy: 0.5800\n",
            "Epoch 57/100\n",
            "13/13 [==============================] - 0s 31ms/step - loss: 5.1859 - accuracy: 0.5341 - val_loss: 4.2002 - val_accuracy: 0.5700\n",
            "Epoch 58/100\n",
            "13/13 [==============================] - 0s 32ms/step - loss: 4.9878 - accuracy: 0.5162 - val_loss: 4.1077 - val_accuracy: 0.5700\n",
            "Epoch 59/100\n",
            "13/13 [==============================] - 0s 32ms/step - loss: 6.0774 - accuracy: 0.4856 - val_loss: 4.0500 - val_accuracy: 0.5700\n",
            "Epoch 60/100\n",
            "13/13 [==============================] - 0s 32ms/step - loss: 6.0465 - accuracy: 0.5011 - val_loss: 3.9919 - val_accuracy: 0.5700\n",
            "Epoch 61/100\n",
            "13/13 [==============================] - 0s 32ms/step - loss: 7.5294 - accuracy: 0.4996 - val_loss: 4.4585 - val_accuracy: 0.5800\n",
            "Epoch 62/100\n",
            "13/13 [==============================] - 0s 31ms/step - loss: 6.2565 - accuracy: 0.5003 - val_loss: 4.6760 - val_accuracy: 0.5800\n",
            "Epoch 63/100\n",
            "13/13 [==============================] - 0s 31ms/step - loss: 5.7642 - accuracy: 0.4839 - val_loss: 4.5944 - val_accuracy: 0.5800\n",
            "Epoch 64/100\n",
            "13/13 [==============================] - 0s 31ms/step - loss: 6.0778 - accuracy: 0.5008 - val_loss: 4.4645 - val_accuracy: 0.5800\n",
            "Epoch 65/100\n",
            "13/13 [==============================] - 0s 32ms/step - loss: 5.7152 - accuracy: 0.5073 - val_loss: 4.3266 - val_accuracy: 0.5800\n",
            "Epoch 66/100\n",
            "13/13 [==============================] - 0s 32ms/step - loss: 6.4206 - accuracy: 0.5298 - val_loss: 4.3677 - val_accuracy: 0.5800\n",
            "Epoch 67/100\n",
            "13/13 [==============================] - 0s 33ms/step - loss: 6.4714 - accuracy: 0.4880 - val_loss: 4.5047 - val_accuracy: 0.5800\n",
            "Epoch 68/100\n",
            "13/13 [==============================] - 0s 33ms/step - loss: 6.1013 - accuracy: 0.4822 - val_loss: 5.0329 - val_accuracy: 0.5800\n",
            "Epoch 69/100\n",
            "13/13 [==============================] - 0s 32ms/step - loss: 5.2727 - accuracy: 0.5112 - val_loss: 5.0230 - val_accuracy: 0.5800\n",
            "Epoch 70/100\n",
            "13/13 [==============================] - 0s 32ms/step - loss: 5.3876 - accuracy: 0.5230 - val_loss: 4.8973 - val_accuracy: 0.5800\n",
            "Epoch 71/100\n",
            "13/13 [==============================] - 0s 30ms/step - loss: 5.0395 - accuracy: 0.5382 - val_loss: 4.6929 - val_accuracy: 0.5800\n",
            "Epoch 72/100\n",
            "13/13 [==============================] - 0s 32ms/step - loss: 5.4551 - accuracy: 0.5106 - val_loss: 4.4790 - val_accuracy: 0.5800\n",
            "Epoch 73/100\n",
            "13/13 [==============================] - 0s 32ms/step - loss: 6.0777 - accuracy: 0.4752 - val_loss: 4.3160 - val_accuracy: 0.5800\n",
            "Epoch 74/100\n",
            "13/13 [==============================] - 0s 31ms/step - loss: 8.4859 - accuracy: 0.4992 - val_loss: 4.8608 - val_accuracy: 0.5800\n",
            "Epoch 75/100\n",
            "13/13 [==============================] - 0s 32ms/step - loss: 5.7075 - accuracy: 0.4924 - val_loss: 4.8614 - val_accuracy: 0.5800\n",
            "Epoch 76/100\n",
            "13/13 [==============================] - 0s 31ms/step - loss: 6.1579 - accuracy: 0.4772 - val_loss: 4.7329 - val_accuracy: 0.5800\n",
            "Epoch 77/100\n",
            "13/13 [==============================] - 0s 32ms/step - loss: 4.9544 - accuracy: 0.5109 - val_loss: 4.5732 - val_accuracy: 0.5800\n",
            "Epoch 78/100\n",
            "13/13 [==============================] - 0s 32ms/step - loss: 4.9255 - accuracy: 0.5384 - val_loss: 4.4618 - val_accuracy: 0.5800\n",
            "Epoch 79/100\n",
            "13/13 [==============================] - 0s 31ms/step - loss: 5.4010 - accuracy: 0.4857 - val_loss: 4.3679 - val_accuracy: 0.5800\n",
            "Epoch 80/100\n",
            "13/13 [==============================] - 0s 32ms/step - loss: 5.4389 - accuracy: 0.5115 - val_loss: 4.2886 - val_accuracy: 0.5800\n",
            "Epoch 81/100\n",
            "13/13 [==============================] - 0s 31ms/step - loss: 5.0727 - accuracy: 0.5308 - val_loss: 4.1758 - val_accuracy: 0.5800\n",
            "Epoch 82/100\n",
            "13/13 [==============================] - 0s 32ms/step - loss: 5.1218 - accuracy: 0.5176 - val_loss: 4.0335 - val_accuracy: 0.5800\n",
            "Epoch 83/100\n",
            "13/13 [==============================] - 0s 31ms/step - loss: 5.8662 - accuracy: 0.4932 - val_loss: 3.9409 - val_accuracy: 0.5800\n",
            "Epoch 84/100\n",
            "13/13 [==============================] - 0s 33ms/step - loss: 5.9298 - accuracy: 0.4762 - val_loss: 3.8388 - val_accuracy: 0.5800\n",
            "Epoch 85/100\n",
            "13/13 [==============================] - 0s 31ms/step - loss: 4.5657 - accuracy: 0.5295 - val_loss: 3.7413 - val_accuracy: 0.5800\n",
            "Epoch 86/100\n",
            "13/13 [==============================] - 0s 31ms/step - loss: 5.0529 - accuracy: 0.4679 - val_loss: 3.7183 - val_accuracy: 0.5800\n",
            "Epoch 87/100\n",
            "13/13 [==============================] - 0s 31ms/step - loss: 5.5714 - accuracy: 0.4705 - val_loss: 3.6321 - val_accuracy: 0.5800\n",
            "Epoch 88/100\n",
            "13/13 [==============================] - 0s 31ms/step - loss: 5.5609 - accuracy: 0.4995 - val_loss: 3.5828 - val_accuracy: 0.5800\n",
            "Epoch 89/100\n",
            "13/13 [==============================] - 0s 32ms/step - loss: 5.2295 - accuracy: 0.4940 - val_loss: 3.5324 - val_accuracy: 0.5800\n",
            "Epoch 90/100\n",
            "13/13 [==============================] - 0s 32ms/step - loss: 5.5012 - accuracy: 0.5095 - val_loss: 3.5117 - val_accuracy: 0.5800\n",
            "Epoch 91/100\n",
            "13/13 [==============================] - 0s 32ms/step - loss: 5.7675 - accuracy: 0.5241 - val_loss: 3.5034 - val_accuracy: 0.5800\n",
            "Epoch 92/100\n",
            "13/13 [==============================] - 0s 33ms/step - loss: 4.7571 - accuracy: 0.5045 - val_loss: 3.4767 - val_accuracy: 0.5800\n",
            "Epoch 93/100\n",
            "13/13 [==============================] - 0s 31ms/step - loss: 19.5484 - accuracy: 0.5005 - val_loss: 3.8796 - val_accuracy: 0.5800\n",
            "Epoch 94/100\n",
            "13/13 [==============================] - 0s 32ms/step - loss: 4.6783 - accuracy: 0.5112 - val_loss: 3.9403 - val_accuracy: 0.5800\n",
            "Epoch 95/100\n",
            "13/13 [==============================] - 0s 31ms/step - loss: 4.4530 - accuracy: 0.5443 - val_loss: 3.9056 - val_accuracy: 0.5800\n",
            "Epoch 96/100\n",
            "13/13 [==============================] - 0s 32ms/step - loss: 5.4559 - accuracy: 0.4892 - val_loss: 3.8019 - val_accuracy: 0.5800\n",
            "Epoch 97/100\n",
            "13/13 [==============================] - 0s 31ms/step - loss: 4.8715 - accuracy: 0.4879 - val_loss: 3.7502 - val_accuracy: 0.5800\n",
            "Epoch 98/100\n",
            "13/13 [==============================] - 0s 31ms/step - loss: 5.1229 - accuracy: 0.4827 - val_loss: 3.7504 - val_accuracy: 0.5800\n",
            "Epoch 99/100\n",
            "13/13 [==============================] - 1s 40ms/step - loss: 4.7763 - accuracy: 0.4849 - val_loss: 3.7175 - val_accuracy: 0.5800\n",
            "Epoch 100/100\n",
            "13/13 [==============================] - 0s 32ms/step - loss: 5.3183 - accuracy: 0.5597 - val_loss: 3.7847 - val_accuracy: 0.5800\n"
          ],
          "name": "stdout"
        },
        {
          "output_type": "execute_result",
          "data": {
            "text/plain": [
              "<tensorflow.python.keras.callbacks.History at 0x7f1f042bb6d8>"
            ]
          },
          "metadata": {
            "tags": []
          },
          "execution_count": 15
        }
      ]
    },
    {
      "cell_type": "code",
      "metadata": {
        "colab": {
          "base_uri": "https://localhost:8080/",
          "height": 283
        },
        "id": "43jG-6DtLCD0",
        "outputId": "d902ae5a-654a-4e7f-c268-17283039d7a7"
      },
      "source": [
        "predictions = model.predict(x_test)\r\n",
        "np.round(predictions)\r\n",
        "rounded_labels = np.argmax(y_test, axis=1)\r\n",
        "rounded_predictions = np.argmax(predictions, axis=1)\r\n",
        "cf = confusion_matrix(rounded_labels,rounded_predictions)  # doctest: +SKIP\r\n",
        "sns.heatmap(cf/np.sum(cf), annot=True, fmt='.2%', cmap='Blues')"
      ],
      "execution_count": 16,
      "outputs": [
        {
          "output_type": "execute_result",
          "data": {
            "text/plain": [
              "<matplotlib.axes._subplots.AxesSubplot at 0x7f1f019f9b00>"
            ]
          },
          "metadata": {
            "tags": []
          },
          "execution_count": 16
        },
        {
          "output_type": "display_data",
          "data": {
            "image/png": "[encoded data removed]",
            "text/plain": [
              "<Figure size 432x288 with 2 Axes>"
            ]
          },
          "metadata": {
            "tags": [],
            "needs_background": "light"
          }
        }
      ]
    },
    {
      "cell_type": "code",
      "metadata": {
        "colab": {
          "base_uri": "https://localhost:8080/"
        },
        "id": "4vrvZz1uLdV6",
        "outputId": "db30e583-9bc1-4b44-cfd7-c5d3cfc351bd"
      },
      "source": [
        "# RNN\r\n",
        "gru1 = GRU(60,activation=\"relu\",return_sequences=True)(model.input)\r\n",
        "dropout3 = Dropout(0.25)(gru1)\r\n",
        "gru2 = GRU(60,activation=\"relu\")(dropout3)\r\n",
        "dropout4 = Dropout(0.5)(gru2)\r\n",
        "d3 = Dense(60, activation='relu')(dropout4)\r\n",
        "d4 = Dense(60, activation='relu')(d3)\r\n",
        "output = Dense(2, activation='softmax')(d4)\r\n",
        "model2 = Model(inputs=model.input, outputs=output)\r\n",
        "model2.summary()"
      ],
      "execution_count": 17,
      "outputs": [
        {
          "output_type": "stream",
          "text": [
            "Model: \"model_2\"\n",
            "_________________________________________________________________\n",
            "Layer (type)                 Output Shape              Param #   \n",
            "=================================================================\n",
            "input_2 (InputLayer)         [(None, 60, 60)]          0         \n",
            "_________________________________________________________________\n",
            "gru (GRU)                    (None, 60, 60)            21960     \n",
            "_________________________________________________________________\n",
            "dropout_4 (Dropout)          (None, 60, 60)            0         \n",
            "_________________________________________________________________\n",
            "gru_1 (GRU)                  (None, 60)                21960     \n",
            "_________________________________________________________________\n",
            "dropout_5 (Dropout)          (None, 60)                0         \n",
            "_________________________________________________________________\n",
            "dense_6 (Dense)              (None, 60)                3660      \n",
            "_________________________________________________________________\n",
            "dense_7 (Dense)              (None, 60)                3660      \n",
            "_________________________________________________________________\n",
            "dense_8 (Dense)              (None, 2)                 122       \n",
            "=================================================================\n",
            "Total params: 51,362\n",
            "Trainable params: 51,362\n",
            "Non-trainable params: 0\n",
            "_________________________________________________________________\n"
          ],
          "name": "stdout"
        }
      ]
    },
    {
      "cell_type": "code",
      "metadata": {
        "colab": {
          "base_uri": "https://localhost:8080/"
        },
        "id": "sDZ1itJ7LnJt",
        "outputId": "83f11690-d4b9-410e-a74e-383e7d5b3541"
      },
      "source": [
        "optimizer = Adam(learning_rate=0.00001)\r\n",
        "model2.compile(optimizer=optimizer, loss='categorical_crossentropy', metrics=['accuracy'])\r\n",
        "train_data, train_labels = shuffle(train_data, train_labels)\r\n",
        "model2.fit(train_data,train_labels,validation_data=(x_test,y_test),batch_size=64,epochs=100,verbose=1)"
      ],
      "execution_count": 18,
      "outputs": [
        {
          "output_type": "stream",
          "text": [
            "Epoch 1/100\n",
            "13/13 [==============================] - 4s 121ms/step - loss: 2.0812 - accuracy: 0.4856 - val_loss: 1.7348 - val_accuracy: 0.4350\n",
            "Epoch 2/100\n",
            "13/13 [==============================] - 1s 88ms/step - loss: 2.0707 - accuracy: 0.5079 - val_loss: 1.6658 - val_accuracy: 0.4350\n",
            "Epoch 3/100\n",
            "13/13 [==============================] - 1s 87ms/step - loss: 5.3462 - accuracy: 0.4877 - val_loss: 1.6008 - val_accuracy: 0.4400\n",
            "Epoch 4/100\n",
            "13/13 [==============================] - 1s 87ms/step - loss: 2.8480 - accuracy: 0.5081 - val_loss: 1.5550 - val_accuracy: 0.4400\n",
            "Epoch 5/100\n",
            "13/13 [==============================] - 1s 85ms/step - loss: 12.3183 - accuracy: 0.4824 - val_loss: 1.5038 - val_accuracy: 0.4400\n",
            "Epoch 6/100\n",
            "13/13 [==============================] - 1s 89ms/step - loss: 3.7797 - accuracy: 0.4932 - val_loss: 1.4771 - val_accuracy: 0.4350\n",
            "Epoch 7/100\n",
            "13/13 [==============================] - 1s 83ms/step - loss: 3.6651 - accuracy: 0.4998 - val_loss: 1.4598 - val_accuracy: 0.4350\n",
            "Epoch 8/100\n",
            "13/13 [==============================] - 1s 85ms/step - loss: 3.6992 - accuracy: 0.4944 - val_loss: 1.4299 - val_accuracy: 0.4400\n",
            "Epoch 9/100\n",
            "13/13 [==============================] - 1s 85ms/step - loss: 1.9577 - accuracy: 0.4909 - val_loss: 1.4058 - val_accuracy: 0.4400\n",
            "Epoch 10/100\n",
            "13/13 [==============================] - 1s 85ms/step - loss: 1.8792 - accuracy: 0.5058 - val_loss: 1.3969 - val_accuracy: 0.4400\n",
            "Epoch 11/100\n",
            "13/13 [==============================] - 1s 87ms/step - loss: 1.7604 - accuracy: 0.5348 - val_loss: 1.3930 - val_accuracy: 0.4450\n",
            "Epoch 12/100\n",
            "13/13 [==============================] - 1s 87ms/step - loss: 2.3997 - accuracy: 0.4952 - val_loss: 1.3883 - val_accuracy: 0.4500\n",
            "Epoch 13/100\n",
            "13/13 [==============================] - 1s 86ms/step - loss: 1.8460 - accuracy: 0.5230 - val_loss: 1.3810 - val_accuracy: 0.4450\n",
            "Epoch 14/100\n",
            "13/13 [==============================] - 1s 89ms/step - loss: 8.3184 - accuracy: 0.5075 - val_loss: 1.3446 - val_accuracy: 0.4400\n",
            "Epoch 15/100\n",
            "13/13 [==============================] - 1s 87ms/step - loss: 1.9157 - accuracy: 0.5251 - val_loss: 1.3032 - val_accuracy: 0.4400\n",
            "Epoch 16/100\n",
            "13/13 [==============================] - 1s 90ms/step - loss: 2.2474 - accuracy: 0.5625 - val_loss: 1.2866 - val_accuracy: 0.4300\n",
            "Epoch 17/100\n",
            "13/13 [==============================] - 1s 86ms/step - loss: 2.1873 - accuracy: 0.4956 - val_loss: 1.2623 - val_accuracy: 0.4350\n",
            "Epoch 18/100\n",
            "13/13 [==============================] - 1s 98ms/step - loss: 1.8415 - accuracy: 0.5301 - val_loss: 1.2471 - val_accuracy: 0.4300\n",
            "Epoch 19/100\n",
            "13/13 [==============================] - 1s 88ms/step - loss: 2.0918 - accuracy: 0.4819 - val_loss: 1.2248 - val_accuracy: 0.4300\n",
            "Epoch 20/100\n",
            "13/13 [==============================] - 1s 83ms/step - loss: 1.8120 - accuracy: 0.5051 - val_loss: 1.2145 - val_accuracy: 0.4400\n",
            "Epoch 21/100\n",
            "13/13 [==============================] - 1s 87ms/step - loss: 1.9458 - accuracy: 0.5001 - val_loss: 1.2093 - val_accuracy: 0.4300\n",
            "Epoch 22/100\n",
            "13/13 [==============================] - 1s 91ms/step - loss: 1.6801 - accuracy: 0.5435 - val_loss: 1.1939 - val_accuracy: 0.4400\n",
            "Epoch 23/100\n",
            "13/13 [==============================] - 1s 87ms/step - loss: 10.3617 - accuracy: 0.4972 - val_loss: 1.1784 - val_accuracy: 0.4450\n",
            "Epoch 24/100\n",
            "13/13 [==============================] - 1s 87ms/step - loss: 1.7751 - accuracy: 0.4757 - val_loss: 1.1693 - val_accuracy: 0.4500\n",
            "Epoch 25/100\n",
            "13/13 [==============================] - 1s 83ms/step - loss: 1.4882 - accuracy: 0.5228 - val_loss: 1.1689 - val_accuracy: 0.4550\n",
            "Epoch 26/100\n",
            "13/13 [==============================] - 1s 86ms/step - loss: 1.5904 - accuracy: 0.5162 - val_loss: 1.1661 - val_accuracy: 0.4550\n",
            "Epoch 27/100\n",
            "13/13 [==============================] - 1s 84ms/step - loss: 1.4913 - accuracy: 0.5352 - val_loss: 1.1550 - val_accuracy: 0.4400\n",
            "Epoch 28/100\n",
            "13/13 [==============================] - 1s 87ms/step - loss: 2.4069 - accuracy: 0.4641 - val_loss: 1.1489 - val_accuracy: 0.4400\n",
            "Epoch 29/100\n",
            "13/13 [==============================] - 1s 85ms/step - loss: 1.8262 - accuracy: 0.5396 - val_loss: 1.1398 - val_accuracy: 0.4400\n",
            "Epoch 30/100\n",
            "13/13 [==============================] - 1s 88ms/step - loss: 16.7396 - accuracy: 0.4691 - val_loss: 1.1223 - val_accuracy: 0.4500\n",
            "Epoch 31/100\n",
            "13/13 [==============================] - 1s 85ms/step - loss: 1.6561 - accuracy: 0.4978 - val_loss: 1.1087 - val_accuracy: 0.4550\n",
            "Epoch 32/100\n",
            "13/13 [==============================] - 1s 84ms/step - loss: 4.4167 - accuracy: 0.5090 - val_loss: 1.0833 - val_accuracy: 0.4650\n",
            "Epoch 33/100\n",
            "13/13 [==============================] - 1s 86ms/step - loss: 1.8799 - accuracy: 0.4716 - val_loss: 1.0799 - val_accuracy: 0.4650\n",
            "Epoch 34/100\n",
            "13/13 [==============================] - 1s 85ms/step - loss: 1.7355 - accuracy: 0.4914 - val_loss: 1.0765 - val_accuracy: 0.4650\n",
            "Epoch 35/100\n",
            "13/13 [==============================] - 1s 86ms/step - loss: 1.7907 - accuracy: 0.4781 - val_loss: 1.0758 - val_accuracy: 0.4650\n",
            "Epoch 36/100\n",
            "13/13 [==============================] - 1s 85ms/step - loss: 1.6564 - accuracy: 0.5456 - val_loss: 1.0797 - val_accuracy: 0.4650\n",
            "Epoch 37/100\n",
            "13/13 [==============================] - 1s 85ms/step - loss: 1.8646 - accuracy: 0.5268 - val_loss: 1.0748 - val_accuracy: 0.4700\n",
            "Epoch 38/100\n",
            "13/13 [==============================] - 1s 85ms/step - loss: 1.8426 - accuracy: 0.4876 - val_loss: 1.0719 - val_accuracy: 0.4750\n",
            "Epoch 39/100\n",
            "13/13 [==============================] - 1s 84ms/step - loss: 1.5831 - accuracy: 0.5003 - val_loss: 1.0661 - val_accuracy: 0.4800\n",
            "Epoch 40/100\n",
            "13/13 [==============================] - 1s 86ms/step - loss: 1.7907 - accuracy: 0.5004 - val_loss: 1.0664 - val_accuracy: 0.4800\n",
            "Epoch 41/100\n",
            "13/13 [==============================] - 1s 89ms/step - loss: 3.3405 - accuracy: 0.4662 - val_loss: 1.0541 - val_accuracy: 0.4800\n",
            "Epoch 42/100\n",
            "13/13 [==============================] - 1s 89ms/step - loss: 1.9527 - accuracy: 0.4874 - val_loss: 1.0429 - val_accuracy: 0.4800\n",
            "Epoch 43/100\n",
            "13/13 [==============================] - 1s 86ms/step - loss: 1.5850 - accuracy: 0.5319 - val_loss: 1.0324 - val_accuracy: 0.4750\n",
            "Epoch 44/100\n",
            "13/13 [==============================] - 1s 85ms/step - loss: 1.5418 - accuracy: 0.5391 - val_loss: 1.0239 - val_accuracy: 0.4850\n",
            "Epoch 45/100\n",
            "13/13 [==============================] - 1s 93ms/step - loss: 4.3464 - accuracy: 0.4812 - val_loss: 1.0131 - val_accuracy: 0.4850\n",
            "Epoch 46/100\n",
            "13/13 [==============================] - 1s 89ms/step - loss: 2.1644 - accuracy: 0.5126 - val_loss: 1.0096 - val_accuracy: 0.4800\n",
            "Epoch 47/100\n",
            "13/13 [==============================] - 1s 87ms/step - loss: 2.0391 - accuracy: 0.4724 - val_loss: 1.0033 - val_accuracy: 0.4800\n",
            "Epoch 48/100\n",
            "13/13 [==============================] - 1s 84ms/step - loss: 2.1715 - accuracy: 0.5274 - val_loss: 1.0011 - val_accuracy: 0.4800\n",
            "Epoch 49/100\n",
            "13/13 [==============================] - 1s 86ms/step - loss: 2.7774 - accuracy: 0.5028 - val_loss: 0.9983 - val_accuracy: 0.4750\n",
            "Epoch 50/100\n",
            "13/13 [==============================] - 1s 84ms/step - loss: 1.7808 - accuracy: 0.5052 - val_loss: 0.9937 - val_accuracy: 0.4750\n",
            "Epoch 51/100\n",
            "13/13 [==============================] - 1s 84ms/step - loss: 1.7566 - accuracy: 0.4825 - val_loss: 0.9985 - val_accuracy: 0.4750\n",
            "Epoch 52/100\n",
            "13/13 [==============================] - 1s 86ms/step - loss: 1.5819 - accuracy: 0.5087 - val_loss: 1.0032 - val_accuracy: 0.4750\n",
            "Epoch 53/100\n",
            "13/13 [==============================] - 1s 85ms/step - loss: 2.4827 - accuracy: 0.5226 - val_loss: 1.0063 - val_accuracy: 0.4750\n",
            "Epoch 54/100\n",
            "13/13 [==============================] - 1s 86ms/step - loss: 3.3555 - accuracy: 0.5365 - val_loss: 1.0061 - val_accuracy: 0.4800\n",
            "Epoch 55/100\n",
            "13/13 [==============================] - 1s 89ms/step - loss: 3.7460 - accuracy: 0.4811 - val_loss: 1.0013 - val_accuracy: 0.4800\n",
            "Epoch 56/100\n",
            "13/13 [==============================] - 1s 90ms/step - loss: 1.5962 - accuracy: 0.5395 - val_loss: 1.0011 - val_accuracy: 0.4750\n",
            "Epoch 57/100\n",
            "13/13 [==============================] - 1s 84ms/step - loss: 6.6172 - accuracy: 0.4932 - val_loss: 0.9915 - val_accuracy: 0.4800\n",
            "Epoch 58/100\n",
            "13/13 [==============================] - 1s 85ms/step - loss: 1.6628 - accuracy: 0.4967 - val_loss: 0.9963 - val_accuracy: 0.4800\n",
            "Epoch 59/100\n",
            "13/13 [==============================] - 1s 85ms/step - loss: 1.6777 - accuracy: 0.5085 - val_loss: 0.9888 - val_accuracy: 0.4800\n",
            "Epoch 60/100\n",
            "13/13 [==============================] - 1s 85ms/step - loss: 1.6758 - accuracy: 0.5039 - val_loss: 0.9885 - val_accuracy: 0.4800\n",
            "Epoch 61/100\n",
            "13/13 [==============================] - 1s 85ms/step - loss: 1.6620 - accuracy: 0.4730 - val_loss: 0.9891 - val_accuracy: 0.4800\n",
            "Epoch 62/100\n",
            "13/13 [==============================] - 1s 86ms/step - loss: 1.5339 - accuracy: 0.5455 - val_loss: 0.9891 - val_accuracy: 0.4750\n",
            "Epoch 63/100\n",
            "13/13 [==============================] - 1s 85ms/step - loss: 2.9096 - accuracy: 0.5072 - val_loss: 0.9863 - val_accuracy: 0.4850\n",
            "Epoch 64/100\n",
            "13/13 [==============================] - 1s 86ms/step - loss: 2.0159 - accuracy: 0.5031 - val_loss: 0.9833 - val_accuracy: 0.4850\n",
            "Epoch 65/100\n",
            "13/13 [==============================] - 1s 87ms/step - loss: 2.9050 - accuracy: 0.5381 - val_loss: 0.9837 - val_accuracy: 0.4750\n",
            "Epoch 66/100\n",
            "13/13 [==============================] - 1s 86ms/step - loss: 2.3583 - accuracy: 0.4951 - val_loss: 0.9759 - val_accuracy: 0.4850\n",
            "Epoch 67/100\n",
            "13/13 [==============================] - 1s 87ms/step - loss: 2.2009 - accuracy: 0.5268 - val_loss: 0.9625 - val_accuracy: 0.4950\n",
            "Epoch 68/100\n",
            "13/13 [==============================] - 1s 87ms/step - loss: 1.7528 - accuracy: 0.5020 - val_loss: 0.9532 - val_accuracy: 0.4850\n",
            "Epoch 69/100\n",
            "13/13 [==============================] - 1s 86ms/step - loss: 1.7032 - accuracy: 0.4966 - val_loss: 0.9508 - val_accuracy: 0.4850\n",
            "Epoch 70/100\n",
            "13/13 [==============================] - 1s 85ms/step - loss: 2.5549 - accuracy: 0.4999 - val_loss: 0.9545 - val_accuracy: 0.4800\n",
            "Epoch 71/100\n",
            "13/13 [==============================] - 1s 86ms/step - loss: 1.9719 - accuracy: 0.4845 - val_loss: 0.9600 - val_accuracy: 0.4800\n",
            "Epoch 72/100\n",
            "13/13 [==============================] - 1s 86ms/step - loss: 1.4771 - accuracy: 0.5424 - val_loss: 0.9619 - val_accuracy: 0.4950\n",
            "Epoch 73/100\n",
            "13/13 [==============================] - 1s 87ms/step - loss: 1.6962 - accuracy: 0.5057 - val_loss: 0.9643 - val_accuracy: 0.4850\n",
            "Epoch 74/100\n",
            "13/13 [==============================] - 1s 88ms/step - loss: 3.1372 - accuracy: 0.5182 - val_loss: 0.9706 - val_accuracy: 0.4800\n",
            "Epoch 75/100\n",
            "13/13 [==============================] - 1s 85ms/step - loss: 2.1278 - accuracy: 0.5519 - val_loss: 0.9944 - val_accuracy: 0.4950\n",
            "Epoch 76/100\n",
            "13/13 [==============================] - 1s 88ms/step - loss: 2.0411 - accuracy: 0.4858 - val_loss: 0.9861 - val_accuracy: 0.5000\n",
            "Epoch 77/100\n",
            "13/13 [==============================] - 1s 86ms/step - loss: 1.4602 - accuracy: 0.5122 - val_loss: 1.0178 - val_accuracy: 0.4900\n",
            "Epoch 78/100\n",
            "13/13 [==============================] - 1s 88ms/step - loss: 1.8557 - accuracy: 0.5130 - val_loss: 1.0208 - val_accuracy: 0.4900\n",
            "Epoch 79/100\n",
            "13/13 [==============================] - 1s 85ms/step - loss: 4.3097 - accuracy: 0.4563 - val_loss: 1.0404 - val_accuracy: 0.4800\n",
            "Epoch 80/100\n",
            "13/13 [==============================] - 1s 94ms/step - loss: 1.6907 - accuracy: 0.4868 - val_loss: 1.0455 - val_accuracy: 0.4700\n",
            "Epoch 81/100\n",
            "13/13 [==============================] - 1s 84ms/step - loss: 1.6779 - accuracy: 0.4881 - val_loss: 1.0274 - val_accuracy: 0.4650\n",
            "Epoch 82/100\n",
            "13/13 [==============================] - 1s 85ms/step - loss: 1.5524 - accuracy: 0.5110 - val_loss: 1.0258 - val_accuracy: 0.4600\n",
            "Epoch 83/100\n",
            "13/13 [==============================] - 1s 84ms/step - loss: 2.2934 - accuracy: 0.5337 - val_loss: 1.0197 - val_accuracy: 0.4650\n",
            "Epoch 84/100\n",
            "13/13 [==============================] - 1s 86ms/step - loss: 1.9338 - accuracy: 0.5009 - val_loss: 1.0162 - val_accuracy: 0.4650\n",
            "Epoch 85/100\n",
            "13/13 [==============================] - 1s 85ms/step - loss: 1.5260 - accuracy: 0.5077 - val_loss: 1.0111 - val_accuracy: 0.4700\n",
            "Epoch 86/100\n",
            "13/13 [==============================] - 1s 87ms/step - loss: 2.7475 - accuracy: 0.4862 - val_loss: 1.0090 - val_accuracy: 0.4750\n",
            "Epoch 87/100\n",
            "13/13 [==============================] - 1s 86ms/step - loss: 2.4864 - accuracy: 0.4853 - val_loss: 1.0092 - val_accuracy: 0.4800\n",
            "Epoch 88/100\n",
            "13/13 [==============================] - 1s 85ms/step - loss: 1.5411 - accuracy: 0.5312 - val_loss: 0.9960 - val_accuracy: 0.4700\n",
            "Epoch 89/100\n",
            "13/13 [==============================] - 1s 87ms/step - loss: 1.4938 - accuracy: 0.5174 - val_loss: 0.9917 - val_accuracy: 0.4750\n",
            "Epoch 90/100\n",
            "13/13 [==============================] - 1s 86ms/step - loss: 1.6380 - accuracy: 0.5090 - val_loss: 0.9870 - val_accuracy: 0.4650\n",
            "Epoch 91/100\n",
            "13/13 [==============================] - 1s 86ms/step - loss: 2.8239 - accuracy: 0.4755 - val_loss: 0.9859 - val_accuracy: 0.4700\n",
            "Epoch 92/100\n",
            "13/13 [==============================] - 1s 86ms/step - loss: 3.7461 - accuracy: 0.4764 - val_loss: 0.9829 - val_accuracy: 0.4600\n",
            "Epoch 93/100\n",
            "13/13 [==============================] - 1s 86ms/step - loss: 1.4651 - accuracy: 0.5124 - val_loss: 0.9836 - val_accuracy: 0.4550\n",
            "Epoch 94/100\n",
            "13/13 [==============================] - 1s 87ms/step - loss: 2.2468 - accuracy: 0.4951 - val_loss: 0.9837 - val_accuracy: 0.4550\n",
            "Epoch 95/100\n",
            "13/13 [==============================] - 1s 84ms/step - loss: 2.8432 - accuracy: 0.5175 - val_loss: 0.9813 - val_accuracy: 0.4650\n",
            "Epoch 96/100\n",
            "13/13 [==============================] - 1s 88ms/step - loss: 1.7767 - accuracy: 0.4874 - val_loss: 0.9756 - val_accuracy: 0.4700\n",
            "Epoch 97/100\n",
            "13/13 [==============================] - 1s 86ms/step - loss: 1.5197 - accuracy: 0.4802 - val_loss: 0.9721 - val_accuracy: 0.4700\n",
            "Epoch 98/100\n",
            "13/13 [==============================] - 1s 86ms/step - loss: 9.0330 - accuracy: 0.5165 - val_loss: 0.9799 - val_accuracy: 0.4700\n",
            "Epoch 99/100\n",
            "13/13 [==============================] - 1s 88ms/step - loss: 2.3790 - accuracy: 0.5085 - val_loss: 0.9762 - val_accuracy: 0.4700\n",
            "Epoch 100/100\n",
            "13/13 [==============================] - 1s 88ms/step - loss: 1.6499 - accuracy: 0.5188 - val_loss: 0.9715 - val_accuracy: 0.4650\n"
          ],
          "name": "stdout"
        },
        {
          "output_type": "execute_result",
          "data": {
            "text/plain": [
              "<tensorflow.python.keras.callbacks.History at 0x7f1f003e7470>"
            ]
          },
          "metadata": {
            "tags": []
          },
          "execution_count": 18
        }
      ]
    },
    {
      "cell_type": "code",
      "metadata": {
        "colab": {
          "base_uri": "https://localhost:8080/",
          "height": 283
        },
        "id": "tI95FrVjL1md",
        "outputId": "63f877bf-8c75-4de7-fd7f-c0544794fa85"
      },
      "source": [
        "predictionsRNN = model2.predict(x_test)\r\n",
        "np.round(predictionsRNN)\r\n",
        "rounded_labels = np.argmax(y_test, axis=1)\r\n",
        "rounded_predictionsRNN = np.argmax(predictionsRNN, axis=1)\r\n",
        "cfRNN = confusion_matrix(rounded_labels,rounded_predictionsRNN)  # doctest: +SKIP\r\n",
        "sns.heatmap(cfRNN/np.sum(cfRNN), annot=True, fmt='.2%', cmap='Blues')"
      ],
      "execution_count": 19,
      "outputs": [
        {
          "output_type": "execute_result",
          "data": {
            "text/plain": [
              "<matplotlib.axes._subplots.AxesSubplot at 0x7f1effd4f9b0>"
            ]
          },
          "metadata": {
            "tags": []
          },
          "execution_count": 19
        },
        {
          "output_type": "display_data",
          "data": {
            "image/png": "[encoded data removed]",
            "text/plain": [
              "<Figure size 432x288 with 2 Axes>"
            ]
          },
          "metadata": {
            "tags": [],
            "needs_background": "light"
          }
        }
      ]
    },
    {
      "cell_type": "code",
      "metadata": {
        "id": "jRZKfpNYMgjC"
      },
      "source": [
        "for layer in model.layers:\r\n",
        "  layer.trainable = False\r\n",
        "\r\n",
        "for layer in model2.layers:\r\n",
        "  layer.trainable = False"
      ],
      "execution_count": 20,
      "outputs": []
    },
    {
      "cell_type": "code",
      "metadata": {
        "id": "mRiSoEKDMmT7"
      },
      "source": [
        "def createFeatureModel(modelCNN, modelRNN):\r\n",
        "  outputs = [modelCNN.layers[8].output,modelRNN.layers[6].output]\r\n",
        "  merge = concatenate(outputs)\r\n",
        "  featureModel = Model(inputs=modelCNN.input, outputs=merge)\r\n",
        "  return featureModel"
      ],
      "execution_count": 21,
      "outputs": []
    },
    {
      "cell_type": "code",
      "metadata": {
        "id": "Y-Ue8-eyMu9K"
      },
      "source": [
        "def extractFeatures(model, data):\r\n",
        "  features = model.predict(data,verbose=0)\r\n",
        "  return features"
      ],
      "execution_count": 22,
      "outputs": []
    },
    {
      "cell_type": "code",
      "metadata": {
        "colab": {
          "base_uri": "https://localhost:8080/"
        },
        "id": "kK64aYbdMx9y",
        "outputId": "fee66fbc-8716-4ad5-854b-4dbc285c68f6"
      },
      "source": [
        "featureModel = createFeatureModel(model,model2)\r\n",
        "train_features = extractFeatures(featureModel, train_data)\r\n",
        "test_features = extractFeatures(featureModel, x_test)\r\n",
        "print(train_features.shape, test_features.shape)"
      ],
      "execution_count": 23,
      "outputs": [
        {
          "output_type": "stream",
          "text": [
            "(800, 180) (200, 180)\n"
          ],
          "name": "stdout"
        }
      ]
    },
    {
      "cell_type": "code",
      "metadata": {
        "colab": {
          "base_uri": "https://localhost:8080/"
        },
        "id": "AXdvgR1_Nie5",
        "outputId": "74f073a5-302b-428e-af11-beb2f2040678"
      },
      "source": [
        "from sklearn.preprocessing import StandardScaler\r\n",
        "standardData = StandardScaler().fit_transform(train_features)\r\n",
        "print(standardData.shape,np.mean(standardData),np.std(standardData))"
      ],
      "execution_count": 24,
      "outputs": [
        {
          "output_type": "stream",
          "text": [
            "(800, 180) -3.5762787e-10 0.9006171\n"
          ],
          "name": "stdout"
        }
      ]
    },
    {
      "cell_type": "code",
      "metadata": {
        "id": "asv9rru_OQBP"
      },
      "source": [
        "from sklearn.decomposition import PCA\r\n",
        "pca = PCA(n_components=2)\r\n",
        "principal_components = pca.fit_transform(standardData)"
      ],
      "execution_count": 30,
      "outputs": []
    },
    {
      "cell_type": "code",
      "metadata": {
        "colab": {
          "base_uri": "https://localhost:8080/"
        },
        "id": "w1FI3KRJQWgh",
        "outputId": "77bf2bc2-2d01-4179-8276-530ebd6dcc62"
      },
      "source": [
        "print(pca.explained_variance_ratio_)"
      ],
      "execution_count": 31,
      "outputs": [
        {
          "output_type": "stream",
          "text": [
            "[0.6447153  0.08226921]\n"
          ],
          "name": "stdout"
        }
      ]
    },
    {
      "cell_type": "code",
      "metadata": {
        "colab": {
          "base_uri": "https://localhost:8080/"
        },
        "id": "4FaWyXnMcsyV",
        "outputId": "1ca1fbed-1102-44bd-9b10-394cc730b273"
      },
      "source": [
        "print(principal_components.shape)"
      ],
      "execution_count": 33,
      "outputs": [
        {
          "output_type": "stream",
          "text": [
            "(800, 2)\n"
          ],
          "name": "stdout"
        }
      ]
    },
    {
      "cell_type": "code",
      "metadata": {
        "colab": {
          "base_uri": "https://localhost:8080/"
        },
        "id": "Ga16mTradBlB",
        "outputId": "72f7b722-78c5-46c4-fbc4-7ae45d158526"
      },
      "source": [
        "c1 = []\r\n",
        "c2 = []\r\n",
        "for i in range(len(train_labels)):\r\n",
        "    output_class = np.argmax(train_labels[i])\r\n",
        "    if(output_class == 0):\r\n",
        "        c1.append(principal_components[i])\r\n",
        "    else:\r\n",
        "        c2.append(principal_components[i])\r\n",
        "print(len(c1),len(c2))"
      ],
      "execution_count": 34,
      "outputs": [
        {
          "output_type": "stream",
          "text": [
            "386 414\n"
          ],
          "name": "stdout"
        }
      ]
    },
    {
      "cell_type": "code",
      "metadata": {
        "id": "GsXMr327eQ8y"
      },
      "source": [
        "c2 = c2[:386]"
      ],
      "execution_count": 36,
      "outputs": []
    },
    {
      "cell_type": "code",
      "metadata": {
        "colab": {
          "base_uri": "https://localhost:8080/"
        },
        "id": "Fq7YwUrTeVKu",
        "outputId": "a4b6bd64-6e25-48dc-a922-1a9d09e8ccc7"
      },
      "source": [
        "print(len(c1),len(c2))"
      ],
      "execution_count": 37,
      "outputs": [
        {
          "output_type": "stream",
          "text": [
            "386 386\n"
          ],
          "name": "stdout"
        }
      ]
    },
    {
      "cell_type": "code",
      "metadata": {
        "colab": {
          "base_uri": "https://localhost:8080/",
          "height": 676
        },
        "id": "nmB51tZybQ5E",
        "outputId": "8abf0183-41e9-4616-a564-b52805104be6"
      },
      "source": [
        "plt.figure()\r\n",
        "plt.figure(figsize=(10,10))\r\n",
        "plt.xticks(fontsize=12)\r\n",
        "plt.yticks(fontsize=14)\r\n",
        "plt.xlabel('Principal Component - 1',fontsize=20)\r\n",
        "plt.ylabel('Principal Component - 2',fontsize=20)\r\n",
        "plt.title(\"Principal Component Analysis of EEG waves\",fontsize=20)\r\n",
        "targets = ['Cooperate', 'Independent']\r\n",
        "colors = ['r', 'b']\r\n",
        "for target, color in zip(targets,colors):\r\n",
        "    # indicesToKeep = breast_dataset['label'] == target\r\n",
        "    plt.scatter(c1, c2, c = color, s = 50)\r\n",
        "\r\n",
        "plt.legend(targets,prop={'size': 15})"
      ],
      "execution_count": 40,
      "outputs": [
        {
          "output_type": "execute_result",
          "data": {
            "text/plain": [
              "<matplotlib.legend.Legend at 0x7f1eef158080>"
            ]
          },
          "metadata": {
            "tags": []
          },
          "execution_count": 40
        },
        {
          "output_type": "display_data",
          "data": {
            "text/plain": [
              "<Figure size 432x288 with 0 Axes>"
            ]
          },
          "metadata": {
            "tags": []
          }
        },
        {
          "output_type": "display_data",
          "data": {
            "image/png": "[encoded data removed]",
            "text/plain": [
              "<Figure size 720x720 with 1 Axes>"
            ]
          },
          "metadata": {
            "tags": [],
            "needs_background": "light"
          }
        }
      ]
    },
    {
      "cell_type": "code",
      "metadata": {
        "id": "iKhIw-xVUo0e"
      },
      "source": [
        "color_intermediates = []\r\n",
        "for i in range(len(train_labels)):\r\n",
        "    output_class = np.argmax(train_labels[i])\r\n",
        "    if(output_class == 0):\r\n",
        "        color_intermediates.append(\"#0000ff\")\r\n",
        "    else:\r\n",
        "        color_intermediates.append(\"#ff0000\")"
      ],
      "execution_count": 27,
      "outputs": []
    },
    {
      "cell_type": "code",
      "metadata": {
        "id": "XW3pe1JnQkp8"
      },
      "source": [
        "from sklearn.manifold import TSNE\r\n",
        "tsne = TSNE(n_components=2, random_state=0)\r\n",
        "intermediates_tsne = tsne.fit_transform(train_features)"
      ],
      "execution_count": 28,
      "outputs": []
    },
    {
      "cell_type": "code",
      "metadata": {
        "colab": {
          "base_uri": "https://localhost:8080/",
          "height": 483
        },
        "id": "JLk1fwMaV2Lq",
        "outputId": "bc27062c-1041-4392-a18a-aacda4fd8478"
      },
      "source": [
        "plt.figure(figsize=(8, 8))\r\n",
        "plt.scatter(x = intermediates_tsne[:,0], y=intermediates_tsne[:,1], color=color_intermediates)\r\n",
        "plt.show()"
      ],
      "execution_count": 29,
      "outputs": [
        {
          "output_type": "display_data",
          "data": {
            "image/png": "[encoded data removed]",
            "text/plain": [
              "<Figure size 576x576 with 1 Axes>"
            ]
          },
          "metadata": {
            "tags": [],
            "needs_background": "light"
          }
        }
      ]
    },
    {
      "cell_type": "code",
      "metadata": {
        "id": "A9eXPozqV8wP"
      },
      "source": [
        ""
      ],
      "execution_count": null,
      "outputs": []
    }
  ]
}