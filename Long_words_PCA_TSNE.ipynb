{
  "nbformat": 4,
  "nbformat_minor": 0,
  "metadata": {
    "colab": {
      "name": "Long_words_PCA_TSNE.ipynb",
      "provenance": [],
      "authorship_tag": "ABX9TyNcQmY4jRDqGO+CTvWPlUng",
      "include_colab_link": true
    },
    "kernelspec": {
      "name": "python3",
      "display_name": "Python 3"
    }
  },
  "cells": [
    {
      "cell_type": "markdown",
      "metadata": {
        "id": "view-in-github",
        "colab_type": "text"
      },
      "source": [
        "<a href=\"https://colab.research.google.com/github/Syed-Osama-Hussain/Imagined-Speech-Prediction-from-EEG/blob/master/Long_words_PCA_TSNE.ipynb\" target=\"_parent\"><img src=\"https://colab.research.google.com/assets/colab-badge.svg\" alt=\"Open In Colab\"/></a>"
      ]
    },
    {
      "cell_type": "code",
      "metadata": {
        "id": "_tm1CkyrHC_O"
      },
      "source": [
        "import numpy as np\r\n",
        "import tensorflow as tf\r\n",
        "import scipy.io\r\n",
        "import scipy.interpolate\r\n",
        "import os\r\n",
        "import keras as ks\r\n",
        "from keras.models import Sequential\r\n",
        "from keras.layers import Dense, Conv1D, Flatten, MaxPooling1D, LSTM, Dropout, Input, Reshape, GRU\r\n",
        "from sklearn.utils import shuffle\r\n",
        "from sklearn.metrics import confusion_matrix\r\n",
        "import matplotlib \r\n",
        "import matplotlib.pyplot as plt\r\n",
        "import seaborn as sns\r\n",
        "from keras.layers.merge import concatenate\r\n",
        "from keras.utils import plot_model\r\n",
        "from keras.models import Model, load_model\r\n",
        "import keras.backend as K\r\n",
        "from tensorflow.keras.optimizers import Adam\r\n",
        "from sklearn.preprocessing import StandardScaler\r\n",
        "from sklearn.decomposition import PCA"
      ],
      "execution_count": 11,
      "outputs": []
    },
    {
      "cell_type": "code",
      "metadata": {
        "colab": {
          "base_uri": "https://localhost:8080/"
        },
        "id": "jLvAmH3zJYjt",
        "outputId": "59473eeb-a006-449f-9a7e-fd73f5da6a65"
      },
      "source": [
        "from google.colab import drive\r\n",
        "drive.mount('/content/drive', force_remount=True)"
      ],
      "execution_count": 12,
      "outputs": [
        {
          "output_type": "stream",
          "text": [
            "Mounted at /content/drive\n"
          ],
          "name": "stdout"
        }
      ]
    },
    {
      "cell_type": "code",
      "metadata": {
        "id": "NP8hbh9BJeYs"
      },
      "source": [
        "def covariance(matrix):\r\n",
        "  # matrix = matrix[[2,3,5,36,37,38], :]\r\n",
        "  matrix = np.delete(matrix,(0,9,32,63), 0)\r\n",
        "  res_mat = (np.cov(matrix,bias=True))\r\n",
        "  return res_mat"
      ],
      "execution_count": 13,
      "outputs": []
    },
    {
      "cell_type": "code",
      "metadata": {
        "id": "O0ZSYz43Js66"
      },
      "source": [
        "def loadMatrices(dir):\r\n",
        "  matrices_c1 = []\r\n",
        "  matrices_c2 = []\r\n",
        "  for root,sub,files in os.walk(dir):\r\n",
        "    for f in sorted(files):\r\n",
        "      mat_file  =  scipy.io.loadmat(os.path.join(root, f))\r\n",
        "      end_trial = mat_file['eeg_data_wrt_task_rep_no_eog_256Hz_end_trial']\r\n",
        "      last_beep = mat_file['eeg_data_wrt_task_rep_no_eog_256Hz_last_beep']\r\n",
        "      matrices_c1.extend([covariance(matrix) for matrix in last_beep[0]])\r\n",
        "      matrices_c2.extend([covariance(matrix) for matrix in last_beep[1]])\r\n",
        "  return np.concatenate((np.array(matrices_c1),np.array(matrices_c2)),axis=0)\r\n"
      ],
      "execution_count": 14,
      "outputs": []
    },
    {
      "cell_type": "code",
      "metadata": {
        "id": "9ej_Cz-cJ36J"
      },
      "source": [
        "data = loadMatrices(\"drive/My Drive/dataset/Long_words/\")"
      ],
      "execution_count": 15,
      "outputs": []
    },
    {
      "cell_type": "code",
      "metadata": {
        "colab": {
          "base_uri": "https://localhost:8080/"
        },
        "id": "kmY6jwMXJ7-A",
        "outputId": "3d82c4d3-2a7c-45c5-8357-a2d6d231915f"
      },
      "source": [
        "print(data.shape)"
      ],
      "execution_count": 16,
      "outputs": [
        {
          "output_type": "stream",
          "text": [
            "(1000, 60, 60)\n"
          ],
          "name": "stdout"
        }
      ]
    },
    {
      "cell_type": "code",
      "metadata": {
        "colab": {
          "base_uri": "https://localhost:8080/"
        },
        "id": "Rjf0fBUXKIke",
        "outputId": "067167b6-a9fc-4a9e-f42e-28121928b286"
      },
      "source": [
        "labels = np.concatenate((np.zeros(500),np.ones(500)),axis=0)\r\n",
        "print(labels.shape)"
      ],
      "execution_count": 17,
      "outputs": [
        {
          "output_type": "stream",
          "text": [
            "(1000,)\n"
          ],
          "name": "stdout"
        }
      ]
    },
    {
      "cell_type": "code",
      "metadata": {
        "colab": {
          "base_uri": "https://localhost:8080/"
        },
        "id": "Y0Pab1jfKK5h",
        "outputId": "271d41fe-c195-4873-9baa-566a7c5c2082"
      },
      "source": [
        "from keras.utils.np_utils import to_categorical\r\n",
        "labels = to_categorical(labels, num_classes=2)\r\n",
        "print(labels.shape,labels)"
      ],
      "execution_count": 18,
      "outputs": [
        {
          "output_type": "stream",
          "text": [
            "(1000, 2) [[1. 0.]\n",
            " [1. 0.]\n",
            " [1. 0.]\n",
            " ...\n",
            " [0. 1.]\n",
            " [0. 1.]\n",
            " [0. 1.]]\n"
          ],
          "name": "stdout"
        }
      ]
    },
    {
      "cell_type": "code",
      "metadata": {
        "id": "4V0VEEGeSEZ3",
        "outputId": "4b488929-14a3-4da3-f3d2-679fe6d4e535",
        "colab": {
          "base_uri": "https://localhost:8080/"
        }
      },
      "source": [
        "data, labels = shuffle(data, labels)\r\n",
        "nsamples, nx, ny = data.shape\r\n",
        "d2_data = data.reshape((nsamples,nx*ny))\r\n",
        "\r\n",
        "standardData = StandardScaler().fit_transform(d2_data)\r\n",
        "print(standardData.shape,np.mean(standardData),np.std(standardData))\r\n",
        "\r\n",
        "pca = PCA(n_components=2)\r\n",
        "principal_components = pca.fit_transform(standardData)\r\n",
        "print(pca.explained_variance_ratio_)"
      ],
      "execution_count": 20,
      "outputs": [
        {
          "output_type": "stream",
          "text": [
            "(1000, 3600) -2.2824211656471663e-17 1.0\n",
            "[9.99636201e-01 2.30399705e-04]\n"
          ],
          "name": "stdout"
        }
      ]
    },
    {
      "cell_type": "code",
      "metadata": {
        "colab": {
          "base_uri": "https://localhost:8080/"
        },
        "id": "4wq0gNesKOI6",
        "outputId": "bc5927a3-0dce-4a0b-d88b-64bdbf496ae5"
      },
      "source": [
        "#CNN\r\n",
        "visible = Input(shape=(60,60))\r\n",
        "cov1 = Conv1D(filters=60, kernel_size=2, activation=\"relu\")(visible)\r\n",
        "dropout1 = Dropout(0.25)(cov1)\r\n",
        "cov2 = Conv1D(filters=60, kernel_size=4, activation=\"relu\")(dropout1)\r\n",
        "dropout2 = Dropout(0.5)(cov2)\r\n",
        "newShape = Reshape((56,60), name='newReshape')(dropout2)\r\n",
        "f1 = Flatten()(newShape)\r\n",
        "d1 = Dense(120, activation='relu')(f1)\r\n",
        "d2 = Dense(120, activation='relu')(d1)\r\n",
        "output = Dense(2, activation='softmax')(d2)\r\n",
        "model = Model(inputs=visible, outputs=output)\r\n",
        "model.summary()"
      ],
      "execution_count": null,
      "outputs": [
        {
          "output_type": "stream",
          "text": [
            "Model: \"model\"\n",
            "_________________________________________________________________\n",
            "Layer (type)                 Output Shape              Param #   \n",
            "=================================================================\n",
            "input_1 (InputLayer)         [(None, 60, 60)]          0         \n",
            "_________________________________________________________________\n",
            "conv1d (Conv1D)              (None, 59, 60)            7260      \n",
            "_________________________________________________________________\n",
            "dropout (Dropout)            (None, 59, 60)            0         \n",
            "_________________________________________________________________\n",
            "conv1d_1 (Conv1D)            (None, 56, 60)            14460     \n",
            "_________________________________________________________________\n",
            "dropout_1 (Dropout)          (None, 56, 60)            0         \n",
            "_________________________________________________________________\n",
            "newReshape (Reshape)         (None, 56, 60)            0         \n",
            "_________________________________________________________________\n",
            "flatten (Flatten)            (None, 3360)              0         \n",
            "_________________________________________________________________\n",
            "dense (Dense)                (None, 120)               403320    \n",
            "_________________________________________________________________\n",
            "dense_1 (Dense)              (None, 120)               14520     \n",
            "_________________________________________________________________\n",
            "dense_2 (Dense)              (None, 2)                 242       \n",
            "=================================================================\n",
            "Total params: 439,802\n",
            "Trainable params: 439,802\n",
            "Non-trainable params: 0\n",
            "_________________________________________________________________\n"
          ],
          "name": "stdout"
        }
      ]
    },
    {
      "cell_type": "code",
      "metadata": {
        "id": "EviqOe5fKWPh"
      },
      "source": [
        "optimizer = Adam(learning_rate=0.00001)\r\n",
        "model.compile(optimizer=optimizer, loss='categorical_crossentropy', metrics=['accuracy'])"
      ],
      "execution_count": null,
      "outputs": []
    },
    {
      "cell_type": "code",
      "metadata": {
        "id": "yJu-7QZDKfqI"
      },
      "source": [
        "data, labels = shuffle(data, labels)"
      ],
      "execution_count": null,
      "outputs": []
    },
    {
      "cell_type": "code",
      "metadata": {
        "id": "TJv2mJrNKjVw"
      },
      "source": [
        "divide_percent = int(len(data)*0.2)\r\n",
        "y_test = labels[0:divide_percent]\r\n",
        "x_test = data[0:divide_percent]\r\n",
        "train_data = data[divide_percent:len(data)]\r\n",
        "train_labels = labels[divide_percent:len(labels)]"
      ],
      "execution_count": null,
      "outputs": []
    },
    {
      "cell_type": "code",
      "metadata": {
        "colab": {
          "base_uri": "https://localhost:8080/"
        },
        "id": "OvBnynzSKmG8",
        "outputId": "6692754b-5cad-47cf-f3b9-d46cc13772f7"
      },
      "source": [
        "print(y_test.shape,x_test.shape,train_data.shape,train_labels.shape)"
      ],
      "execution_count": null,
      "outputs": [
        {
          "output_type": "stream",
          "text": [
            "(200, 2) (200, 60, 60) (800, 60, 60) (800, 2)\n"
          ],
          "name": "stdout"
        }
      ]
    },
    {
      "cell_type": "code",
      "metadata": {
        "colab": {
          "base_uri": "https://localhost:8080/"
        },
        "id": "kkipqSQEKoka",
        "outputId": "caec1fb9-eb77-428e-d033-cba81ad3331b"
      },
      "source": [
        "train_data, train_labels = shuffle(train_data, train_labels)\r\n",
        "model.fit(train_data,train_labels,validation_data=(x_test,y_test),batch_size=64,epochs=100,verbose=1)"
      ],
      "execution_count": null,
      "outputs": [
        {
          "output_type": "stream",
          "text": [
            "Epoch 1/100\n",
            "13/13 [==============================] - 2s 69ms/step - loss: 15.2137 - accuracy: 0.4982 - val_loss: 28.9401 - val_accuracy: 0.4650\n",
            "Epoch 2/100\n",
            "13/13 [==============================] - 0s 33ms/step - loss: 8.5968 - accuracy: 0.5323 - val_loss: 55.8497 - val_accuracy: 0.4900\n",
            "Epoch 3/100\n",
            "13/13 [==============================] - 0s 31ms/step - loss: 7.4475 - accuracy: 0.4967 - val_loss: 62.3850 - val_accuracy: 0.5050\n",
            "Epoch 4/100\n",
            "13/13 [==============================] - 0s 31ms/step - loss: 10.5633 - accuracy: 0.4958 - val_loss: 50.6937 - val_accuracy: 0.4850\n",
            "Epoch 5/100\n",
            "13/13 [==============================] - 0s 32ms/step - loss: 6.2354 - accuracy: 0.5148 - val_loss: 49.6587 - val_accuracy: 0.5100\n",
            "Epoch 6/100\n",
            "13/13 [==============================] - 0s 32ms/step - loss: 6.0612 - accuracy: 0.5150 - val_loss: 49.5857 - val_accuracy: 0.5100\n",
            "Epoch 7/100\n",
            "13/13 [==============================] - 0s 32ms/step - loss: 6.8524 - accuracy: 0.4488 - val_loss: 50.4910 - val_accuracy: 0.5100\n",
            "Epoch 8/100\n",
            "13/13 [==============================] - 0s 30ms/step - loss: 6.8687 - accuracy: 0.5155 - val_loss: 49.0864 - val_accuracy: 0.4850\n",
            "Epoch 9/100\n",
            "13/13 [==============================] - 0s 32ms/step - loss: 7.7325 - accuracy: 0.4932 - val_loss: 43.4391 - val_accuracy: 0.5000\n",
            "Epoch 10/100\n",
            "13/13 [==============================] - 0s 32ms/step - loss: 5.4338 - accuracy: 0.4970 - val_loss: 39.3546 - val_accuracy: 0.5000\n",
            "Epoch 11/100\n",
            "13/13 [==============================] - 0s 31ms/step - loss: 6.2432 - accuracy: 0.4854 - val_loss: 37.9142 - val_accuracy: 0.5100\n",
            "Epoch 12/100\n",
            "13/13 [==============================] - 1s 44ms/step - loss: 6.6796 - accuracy: 0.5014 - val_loss: 36.0375 - val_accuracy: 0.5050\n",
            "Epoch 13/100\n",
            "13/13 [==============================] - 0s 32ms/step - loss: 5.6800 - accuracy: 0.4783 - val_loss: 34.6128 - val_accuracy: 0.5000\n",
            "Epoch 14/100\n",
            "13/13 [==============================] - 0s 32ms/step - loss: 5.8087 - accuracy: 0.4939 - val_loss: 32.3996 - val_accuracy: 0.5050\n",
            "Epoch 15/100\n",
            "13/13 [==============================] - 0s 36ms/step - loss: 6.1008 - accuracy: 0.4790 - val_loss: 26.4836 - val_accuracy: 0.5400\n",
            "Epoch 16/100\n",
            "13/13 [==============================] - 0s 34ms/step - loss: 7.7909 - accuracy: 0.5099 - val_loss: 23.3395 - val_accuracy: 0.5150\n",
            "Epoch 17/100\n",
            "13/13 [==============================] - 0s 32ms/step - loss: 4.8993 - accuracy: 0.5438 - val_loss: 22.3592 - val_accuracy: 0.5100\n",
            "Epoch 18/100\n",
            "13/13 [==============================] - 0s 38ms/step - loss: 5.3376 - accuracy: 0.5132 - val_loss: 20.6817 - val_accuracy: 0.4850\n",
            "Epoch 19/100\n",
            "13/13 [==============================] - 0s 35ms/step - loss: 6.2777 - accuracy: 0.4956 - val_loss: 15.4489 - val_accuracy: 0.5300\n",
            "Epoch 20/100\n",
            "13/13 [==============================] - 0s 35ms/step - loss: 5.4010 - accuracy: 0.4941 - val_loss: 12.2868 - val_accuracy: 0.5450\n",
            "Epoch 21/100\n",
            "13/13 [==============================] - 0s 35ms/step - loss: 4.7111 - accuracy: 0.5449 - val_loss: 12.6966 - val_accuracy: 0.5200\n",
            "Epoch 22/100\n",
            "13/13 [==============================] - 0s 33ms/step - loss: 7.0852 - accuracy: 0.5128 - val_loss: 8.7777 - val_accuracy: 0.5450\n",
            "Epoch 23/100\n",
            "13/13 [==============================] - 0s 33ms/step - loss: 4.6392 - accuracy: 0.5196 - val_loss: 7.4057 - val_accuracy: 0.5450\n",
            "Epoch 24/100\n",
            "13/13 [==============================] - 0s 34ms/step - loss: 6.6927 - accuracy: 0.5039 - val_loss: 4.1547 - val_accuracy: 0.5650\n",
            "Epoch 25/100\n",
            "13/13 [==============================] - 0s 34ms/step - loss: 5.3202 - accuracy: 0.4999 - val_loss: 4.5580 - val_accuracy: 0.5200\n",
            "Epoch 26/100\n",
            "13/13 [==============================] - 0s 32ms/step - loss: 5.7119 - accuracy: 0.4657 - val_loss: 3.6349 - val_accuracy: 0.5450\n",
            "Epoch 27/100\n",
            "13/13 [==============================] - 0s 32ms/step - loss: 5.8779 - accuracy: 0.4769 - val_loss: 3.3344 - val_accuracy: 0.5200\n",
            "Epoch 28/100\n",
            "13/13 [==============================] - 0s 34ms/step - loss: 5.1097 - accuracy: 0.4955 - val_loss: 4.0952 - val_accuracy: 0.5050\n",
            "Epoch 29/100\n",
            "13/13 [==============================] - 0s 34ms/step - loss: 5.3910 - accuracy: 0.5061 - val_loss: 2.5493 - val_accuracy: 0.5450\n",
            "Epoch 30/100\n",
            "13/13 [==============================] - 0s 36ms/step - loss: 7.4584 - accuracy: 0.4997 - val_loss: 1.0215 - val_accuracy: 0.5650\n",
            "Epoch 31/100\n",
            "13/13 [==============================] - 0s 36ms/step - loss: 4.5938 - accuracy: 0.5214 - val_loss: 0.9851 - val_accuracy: 0.5650\n",
            "Epoch 32/100\n",
            "13/13 [==============================] - 0s 32ms/step - loss: 4.5497 - accuracy: 0.5023 - val_loss: 0.9468 - val_accuracy: 0.5650\n",
            "Epoch 33/100\n",
            "13/13 [==============================] - 0s 32ms/step - loss: 4.3685 - accuracy: 0.5374 - val_loss: 0.9244 - val_accuracy: 0.5300\n",
            "Epoch 34/100\n",
            "13/13 [==============================] - 0s 32ms/step - loss: 5.6896 - accuracy: 0.4947 - val_loss: 0.9221 - val_accuracy: 0.5100\n",
            "Epoch 35/100\n",
            "13/13 [==============================] - 0s 33ms/step - loss: 4.7509 - accuracy: 0.4855 - val_loss: 0.9209 - val_accuracy: 0.4900\n",
            "Epoch 36/100\n",
            "13/13 [==============================] - 0s 31ms/step - loss: 4.0521 - accuracy: 0.5332 - val_loss: 0.9044 - val_accuracy: 0.5000\n",
            "Epoch 37/100\n",
            "13/13 [==============================] - 0s 34ms/step - loss: 4.7633 - accuracy: 0.5469 - val_loss: 0.8930 - val_accuracy: 0.4950\n",
            "Epoch 38/100\n",
            "13/13 [==============================] - 0s 31ms/step - loss: 3.7878 - accuracy: 0.5372 - val_loss: 0.8791 - val_accuracy: 0.5050\n",
            "Epoch 39/100\n",
            "13/13 [==============================] - 0s 32ms/step - loss: 4.3990 - accuracy: 0.4982 - val_loss: 0.8630 - val_accuracy: 0.5200\n",
            "Epoch 40/100\n",
            "13/13 [==============================] - 0s 33ms/step - loss: 5.3030 - accuracy: 0.4999 - val_loss: 0.8685 - val_accuracy: 0.5550\n",
            "Epoch 41/100\n",
            "13/13 [==============================] - 0s 31ms/step - loss: 5.1970 - accuracy: 0.4909 - val_loss: 0.8689 - val_accuracy: 0.5450\n",
            "Epoch 42/100\n",
            "13/13 [==============================] - 0s 31ms/step - loss: 4.1935 - accuracy: 0.4955 - val_loss: 0.8846 - val_accuracy: 0.5550\n",
            "Epoch 43/100\n",
            "13/13 [==============================] - 0s 31ms/step - loss: 4.4039 - accuracy: 0.5144 - val_loss: 0.8662 - val_accuracy: 0.5350\n",
            "Epoch 44/100\n",
            "13/13 [==============================] - 0s 32ms/step - loss: 4.8144 - accuracy: 0.4815 - val_loss: 0.8933 - val_accuracy: 0.5450\n",
            "Epoch 45/100\n",
            "13/13 [==============================] - 0s 32ms/step - loss: 6.1983 - accuracy: 0.5419 - val_loss: 1.0241 - val_accuracy: 0.5350\n",
            "Epoch 46/100\n",
            "13/13 [==============================] - 0s 31ms/step - loss: 4.6656 - accuracy: 0.5272 - val_loss: 1.0109 - val_accuracy: 0.5400\n",
            "Epoch 47/100\n",
            "13/13 [==============================] - 0s 33ms/step - loss: 4.5040 - accuracy: 0.4295 - val_loss: 0.9793 - val_accuracy: 0.5400\n",
            "Epoch 48/100\n",
            "13/13 [==============================] - 0s 32ms/step - loss: 4.1672 - accuracy: 0.5035 - val_loss: 0.8953 - val_accuracy: 0.5300\n",
            "Epoch 49/100\n",
            "13/13 [==============================] - 0s 32ms/step - loss: 4.7886 - accuracy: 0.4772 - val_loss: 0.8555 - val_accuracy: 0.5300\n",
            "Epoch 50/100\n",
            "13/13 [==============================] - 0s 32ms/step - loss: 4.4875 - accuracy: 0.4843 - val_loss: 0.8308 - val_accuracy: 0.5250\n",
            "Epoch 51/100\n",
            "13/13 [==============================] - 0s 33ms/step - loss: 3.7316 - accuracy: 0.5106 - val_loss: 0.8108 - val_accuracy: 0.5400\n",
            "Epoch 52/100\n",
            "13/13 [==============================] - 0s 33ms/step - loss: 3.8577 - accuracy: 0.4915 - val_loss: 0.8151 - val_accuracy: 0.5500\n",
            "Epoch 53/100\n",
            "13/13 [==============================] - 0s 31ms/step - loss: 3.9768 - accuracy: 0.4537 - val_loss: 0.8152 - val_accuracy: 0.5550\n",
            "Epoch 54/100\n",
            "13/13 [==============================] - 0s 32ms/step - loss: 3.5602 - accuracy: 0.5306 - val_loss: 0.8691 - val_accuracy: 0.5300\n",
            "Epoch 55/100\n",
            "13/13 [==============================] - 0s 31ms/step - loss: 3.5115 - accuracy: 0.5449 - val_loss: 0.9112 - val_accuracy: 0.5250\n",
            "Epoch 56/100\n",
            "13/13 [==============================] - 1s 43ms/step - loss: 3.6307 - accuracy: 0.4957 - val_loss: 1.0033 - val_accuracy: 0.5250\n",
            "Epoch 57/100\n",
            "13/13 [==============================] - 0s 31ms/step - loss: 3.6849 - accuracy: 0.5248 - val_loss: 0.9543 - val_accuracy: 0.5250\n",
            "Epoch 58/100\n",
            "13/13 [==============================] - 0s 30ms/step - loss: 3.6827 - accuracy: 0.5130 - val_loss: 0.8839 - val_accuracy: 0.5400\n",
            "Epoch 59/100\n",
            "13/13 [==============================] - 0s 32ms/step - loss: 3.2804 - accuracy: 0.5344 - val_loss: 0.8467 - val_accuracy: 0.5500\n",
            "Epoch 60/100\n",
            "13/13 [==============================] - 0s 30ms/step - loss: 3.3255 - accuracy: 0.5133 - val_loss: 0.8240 - val_accuracy: 0.5600\n",
            "Epoch 61/100\n",
            "13/13 [==============================] - 0s 30ms/step - loss: 4.0639 - accuracy: 0.4925 - val_loss: 0.8079 - val_accuracy: 0.5600\n",
            "Epoch 62/100\n",
            "13/13 [==============================] - 0s 32ms/step - loss: 3.2546 - accuracy: 0.5162 - val_loss: 0.8037 - val_accuracy: 0.5600\n",
            "Epoch 63/100\n",
            "13/13 [==============================] - 0s 30ms/step - loss: 3.1435 - accuracy: 0.5182 - val_loss: 0.8086 - val_accuracy: 0.5550\n",
            "Epoch 64/100\n",
            "13/13 [==============================] - 0s 31ms/step - loss: 4.9780 - accuracy: 0.4879 - val_loss: 0.8804 - val_accuracy: 0.5350\n",
            "Epoch 65/100\n",
            "13/13 [==============================] - 0s 32ms/step - loss: 3.2337 - accuracy: 0.5164 - val_loss: 0.8636 - val_accuracy: 0.5350\n",
            "Epoch 66/100\n",
            "13/13 [==============================] - 0s 32ms/step - loss: 3.8371 - accuracy: 0.5061 - val_loss: 0.9157 - val_accuracy: 0.5350\n",
            "Epoch 67/100\n",
            "13/13 [==============================] - 0s 34ms/step - loss: 3.7082 - accuracy: 0.4968 - val_loss: 0.9567 - val_accuracy: 0.5300\n",
            "Epoch 68/100\n",
            "13/13 [==============================] - 0s 31ms/step - loss: 15.8834 - accuracy: 0.5028 - val_loss: 1.0380 - val_accuracy: 0.5200\n",
            "Epoch 69/100\n",
            "13/13 [==============================] - 0s 32ms/step - loss: 3.2373 - accuracy: 0.5141 - val_loss: 0.9880 - val_accuracy: 0.5200\n",
            "Epoch 70/100\n",
            "13/13 [==============================] - 0s 31ms/step - loss: 5.6260 - accuracy: 0.5311 - val_loss: 0.9771 - val_accuracy: 0.5250\n",
            "Epoch 71/100\n",
            "13/13 [==============================] - 0s 31ms/step - loss: 3.7828 - accuracy: 0.5171 - val_loss: 1.0356 - val_accuracy: 0.5300\n",
            "Epoch 72/100\n",
            "13/13 [==============================] - 0s 32ms/step - loss: 2.9331 - accuracy: 0.5129 - val_loss: 1.0125 - val_accuracy: 0.5250\n",
            "Epoch 73/100\n",
            "13/13 [==============================] - 0s 31ms/step - loss: 3.7633 - accuracy: 0.5348 - val_loss: 0.9693 - val_accuracy: 0.5350\n",
            "Epoch 74/100\n",
            "13/13 [==============================] - 0s 32ms/step - loss: 2.8032 - accuracy: 0.5052 - val_loss: 0.9632 - val_accuracy: 0.5400\n",
            "Epoch 75/100\n",
            "13/13 [==============================] - 0s 31ms/step - loss: 9.5453 - accuracy: 0.4829 - val_loss: 0.9991 - val_accuracy: 0.5250\n",
            "Epoch 76/100\n",
            "13/13 [==============================] - 0s 31ms/step - loss: 3.2378 - accuracy: 0.5180 - val_loss: 0.9459 - val_accuracy: 0.5400\n",
            "Epoch 77/100\n",
            "13/13 [==============================] - 0s 32ms/step - loss: 3.3871 - accuracy: 0.4878 - val_loss: 0.9160 - val_accuracy: 0.5550\n",
            "Epoch 78/100\n",
            "13/13 [==============================] - 0s 32ms/step - loss: 4.7534 - accuracy: 0.5166 - val_loss: 0.9016 - val_accuracy: 0.5500\n",
            "Epoch 79/100\n",
            "13/13 [==============================] - 0s 31ms/step - loss: 3.1092 - accuracy: 0.5146 - val_loss: 0.8745 - val_accuracy: 0.5450\n",
            "Epoch 80/100\n",
            "13/13 [==============================] - 0s 31ms/step - loss: 3.4031 - accuracy: 0.5024 - val_loss: 0.8400 - val_accuracy: 0.5350\n",
            "Epoch 81/100\n",
            "13/13 [==============================] - 0s 31ms/step - loss: 2.9076 - accuracy: 0.5328 - val_loss: 0.8231 - val_accuracy: 0.5300\n",
            "Epoch 82/100\n",
            "13/13 [==============================] - 0s 31ms/step - loss: 3.0730 - accuracy: 0.5083 - val_loss: 0.8162 - val_accuracy: 0.5300\n",
            "Epoch 83/100\n",
            "13/13 [==============================] - 0s 33ms/step - loss: 5.0656 - accuracy: 0.4988 - val_loss: 0.8243 - val_accuracy: 0.5250\n",
            "Epoch 84/100\n",
            "13/13 [==============================] - 0s 32ms/step - loss: 3.2267 - accuracy: 0.5069 - val_loss: 0.8219 - val_accuracy: 0.5250\n",
            "Epoch 85/100\n",
            "13/13 [==============================] - 0s 31ms/step - loss: 3.3243 - accuracy: 0.5014 - val_loss: 0.8038 - val_accuracy: 0.5250\n",
            "Epoch 86/100\n",
            "13/13 [==============================] - 0s 31ms/step - loss: 3.4157 - accuracy: 0.4907 - val_loss: 0.7825 - val_accuracy: 0.5200\n",
            "Epoch 87/100\n",
            "13/13 [==============================] - 0s 32ms/step - loss: 3.2566 - accuracy: 0.4777 - val_loss: 0.7721 - val_accuracy: 0.5400\n",
            "Epoch 88/100\n",
            "13/13 [==============================] - 0s 31ms/step - loss: 2.9491 - accuracy: 0.5186 - val_loss: 0.7723 - val_accuracy: 0.5450\n",
            "Epoch 89/100\n",
            "13/13 [==============================] - 0s 32ms/step - loss: 2.8462 - accuracy: 0.5084 - val_loss: 0.7718 - val_accuracy: 0.5400\n",
            "Epoch 90/100\n",
            "13/13 [==============================] - 0s 30ms/step - loss: 2.9677 - accuracy: 0.5193 - val_loss: 0.7618 - val_accuracy: 0.5250\n",
            "Epoch 91/100\n",
            "13/13 [==============================] - 0s 34ms/step - loss: 2.7701 - accuracy: 0.5259 - val_loss: 0.7565 - val_accuracy: 0.5400\n",
            "Epoch 92/100\n",
            "13/13 [==============================] - 0s 32ms/step - loss: 2.6443 - accuracy: 0.5164 - val_loss: 0.7536 - val_accuracy: 0.5350\n",
            "Epoch 93/100\n",
            "13/13 [==============================] - 0s 31ms/step - loss: 2.7611 - accuracy: 0.4993 - val_loss: 0.7516 - val_accuracy: 0.5400\n",
            "Epoch 94/100\n",
            "13/13 [==============================] - 0s 31ms/step - loss: 2.9867 - accuracy: 0.5148 - val_loss: 0.7527 - val_accuracy: 0.5400\n",
            "Epoch 95/100\n",
            "13/13 [==============================] - 0s 31ms/step - loss: 3.7302 - accuracy: 0.4589 - val_loss: 0.7543 - val_accuracy: 0.5350\n",
            "Epoch 96/100\n",
            "13/13 [==============================] - 0s 32ms/step - loss: 3.0787 - accuracy: 0.4760 - val_loss: 0.7515 - val_accuracy: 0.5300\n",
            "Epoch 97/100\n",
            "13/13 [==============================] - 0s 32ms/step - loss: 2.6459 - accuracy: 0.5370 - val_loss: 0.7506 - val_accuracy: 0.5350\n",
            "Epoch 98/100\n",
            "13/13 [==============================] - 0s 31ms/step - loss: 2.7558 - accuracy: 0.4752 - val_loss: 0.7697 - val_accuracy: 0.5450\n",
            "Epoch 99/100\n",
            "13/13 [==============================] - 0s 32ms/step - loss: 3.0792 - accuracy: 0.4895 - val_loss: 0.7698 - val_accuracy: 0.5350\n",
            "Epoch 100/100\n",
            "13/13 [==============================] - 1s 42ms/step - loss: 2.4476 - accuracy: 0.5085 - val_loss: 0.7977 - val_accuracy: 0.5150\n"
          ],
          "name": "stdout"
        },
        {
          "output_type": "execute_result",
          "data": {
            "text/plain": [
              "<tensorflow.python.keras.callbacks.History at 0x7ff37a2456a0>"
            ]
          },
          "metadata": {
            "tags": []
          },
          "execution_count": 13
        }
      ]
    },
    {
      "cell_type": "code",
      "metadata": {
        "colab": {
          "base_uri": "https://localhost:8080/",
          "height": 284
        },
        "id": "43jG-6DtLCD0",
        "outputId": "5c712c73-c9ac-4034-9dae-f0673e375d59"
      },
      "source": [
        "predictions = model.predict(x_test)\r\n",
        "np.round(predictions)\r\n",
        "rounded_labels = np.argmax(y_test, axis=1)\r\n",
        "rounded_predictions = np.argmax(predictions, axis=1)\r\n",
        "cf = confusion_matrix(rounded_labels,rounded_predictions)  # doctest: +SKIP\r\n",
        "sns.heatmap(cf/np.sum(cf), annot=True, fmt='.2%', cmap='Blues')"
      ],
      "execution_count": null,
      "outputs": [
        {
          "output_type": "execute_result",
          "data": {
            "text/plain": [
              "<matplotlib.axes._subplots.AxesSubplot at 0x7ff3768f80b8>"
            ]
          },
          "metadata": {
            "tags": []
          },
          "execution_count": 14
        },
        {
          "output_type": "display_data",
          "data": {
            "image/png": "[encoded data removed]",
            "text/plain": [
              "<Figure size 432x288 with 2 Axes>"
            ]
          },
          "metadata": {
            "tags": [],
            "needs_background": "light"
          }
        }
      ]
    },
    {
      "cell_type": "code",
      "metadata": {
        "colab": {
          "base_uri": "https://localhost:8080/"
        },
        "id": "4vrvZz1uLdV6",
        "outputId": "35640d63-3052-40af-c292-d1de356c6c3d"
      },
      "source": [
        "# RNN\r\n",
        "gru1 = GRU(60,activation=\"relu\",return_sequences=True)(model.input)\r\n",
        "dropout3 = Dropout(0.25)(gru1)\r\n",
        "gru2 = GRU(60,activation=\"relu\")(dropout3)\r\n",
        "dropout4 = Dropout(0.5)(gru2)\r\n",
        "d3 = Dense(60, activation='relu')(dropout4)\r\n",
        "d4 = Dense(60, activation='relu')(d3)\r\n",
        "output = Dense(2, activation='softmax')(d4)\r\n",
        "model2 = Model(inputs=model.input, outputs=output)\r\n",
        "model2.summary()"
      ],
      "execution_count": null,
      "outputs": [
        {
          "output_type": "stream",
          "text": [
            "Model: \"model_1\"\n",
            "_________________________________________________________________\n",
            "Layer (type)                 Output Shape              Param #   \n",
            "=================================================================\n",
            "input_1 (InputLayer)         [(None, 60, 60)]          0         \n",
            "_________________________________________________________________\n",
            "gru (GRU)                    (None, 60, 60)            21960     \n",
            "_________________________________________________________________\n",
            "dropout_2 (Dropout)          (None, 60, 60)            0         \n",
            "_________________________________________________________________\n",
            "gru_1 (GRU)                  (None, 60)                21960     \n",
            "_________________________________________________________________\n",
            "dropout_3 (Dropout)          (None, 60)                0         \n",
            "_________________________________________________________________\n",
            "dense_3 (Dense)              (None, 60)                3660      \n",
            "_________________________________________________________________\n",
            "dense_4 (Dense)              (None, 60)                3660      \n",
            "_________________________________________________________________\n",
            "dense_5 (Dense)              (None, 2)                 122       \n",
            "=================================================================\n",
            "Total params: 51,362\n",
            "Trainable params: 51,362\n",
            "Non-trainable params: 0\n",
            "_________________________________________________________________\n"
          ],
          "name": "stdout"
        }
      ]
    },
    {
      "cell_type": "code",
      "metadata": {
        "colab": {
          "base_uri": "https://localhost:8080/"
        },
        "id": "sDZ1itJ7LnJt",
        "outputId": "dbc0491c-21d9-4bfe-f00b-40c72fb4376b"
      },
      "source": [
        "optimizer = Adam(learning_rate=0.00001)\r\n",
        "model2.compile(optimizer=optimizer, loss='categorical_crossentropy', metrics=['accuracy'])\r\n",
        "train_data, train_labels = shuffle(train_data, train_labels)\r\n",
        "model2.fit(train_data,train_labels,validation_data=(x_test,y_test),batch_size=64,epochs=100,verbose=1)"
      ],
      "execution_count": null,
      "outputs": [
        {
          "output_type": "stream",
          "text": [
            "Epoch 1/100\n",
            "13/13 [==============================] - 4s 119ms/step - loss: 6.0526 - accuracy: 0.4777 - val_loss: 3.9753 - val_accuracy: 0.4950\n",
            "Epoch 2/100\n",
            "13/13 [==============================] - 1s 88ms/step - loss: 5.8001 - accuracy: 0.4915 - val_loss: 3.8534 - val_accuracy: 0.4950\n",
            "Epoch 3/100\n",
            "13/13 [==============================] - 1s 87ms/step - loss: 5.8333 - accuracy: 0.4943 - val_loss: 3.7220 - val_accuracy: 0.4950\n",
            "Epoch 4/100\n",
            "13/13 [==============================] - 1s 86ms/step - loss: 5.4870 - accuracy: 0.5197 - val_loss: 3.5872 - val_accuracy: 0.4950\n",
            "Epoch 5/100\n",
            "13/13 [==============================] - 1s 88ms/step - loss: 5.6514 - accuracy: 0.4707 - val_loss: 3.4535 - val_accuracy: 0.5000\n",
            "Epoch 6/100\n",
            "13/13 [==============================] - 1s 88ms/step - loss: 5.0624 - accuracy: 0.5268 - val_loss: 3.3297 - val_accuracy: 0.5000\n",
            "Epoch 7/100\n",
            "13/13 [==============================] - 1s 89ms/step - loss: 4.9551 - accuracy: 0.4743 - val_loss: 3.1988 - val_accuracy: 0.5000\n",
            "Epoch 8/100\n",
            "13/13 [==============================] - 1s 87ms/step - loss: 4.3422 - accuracy: 0.4986 - val_loss: 3.0732 - val_accuracy: 0.5000\n",
            "Epoch 9/100\n",
            "13/13 [==============================] - 1s 89ms/step - loss: 4.4411 - accuracy: 0.4963 - val_loss: 2.9479 - val_accuracy: 0.5000\n",
            "Epoch 10/100\n",
            "13/13 [==============================] - 1s 88ms/step - loss: 3.9096 - accuracy: 0.5248 - val_loss: 2.8347 - val_accuracy: 0.5000\n",
            "Epoch 11/100\n",
            "13/13 [==============================] - 1s 90ms/step - loss: 4.4238 - accuracy: 0.4926 - val_loss: 2.7200 - val_accuracy: 0.5000\n",
            "Epoch 12/100\n",
            "13/13 [==============================] - 1s 89ms/step - loss: 4.2083 - accuracy: 0.4702 - val_loss: 2.6254 - val_accuracy: 0.5000\n",
            "Epoch 13/100\n",
            "13/13 [==============================] - 1s 88ms/step - loss: 4.0709 - accuracy: 0.5032 - val_loss: 2.5240 - val_accuracy: 0.5000\n",
            "Epoch 14/100\n",
            "13/13 [==============================] - 1s 87ms/step - loss: 3.7551 - accuracy: 0.4959 - val_loss: 2.4203 - val_accuracy: 0.5050\n",
            "Epoch 15/100\n",
            "13/13 [==============================] - 1s 89ms/step - loss: 3.6175 - accuracy: 0.5098 - val_loss: 2.3331 - val_accuracy: 0.5050\n",
            "Epoch 16/100\n",
            "13/13 [==============================] - 1s 89ms/step - loss: 3.4723 - accuracy: 0.4814 - val_loss: 2.2713 - val_accuracy: 0.5050\n",
            "Epoch 17/100\n",
            "13/13 [==============================] - 1s 89ms/step - loss: 3.5566 - accuracy: 0.4839 - val_loss: 2.1968 - val_accuracy: 0.5050\n",
            "Epoch 18/100\n",
            "13/13 [==============================] - 1s 99ms/step - loss: 3.2201 - accuracy: 0.5025 - val_loss: 2.1165 - val_accuracy: 0.5050\n",
            "Epoch 19/100\n",
            "13/13 [==============================] - 1s 86ms/step - loss: 3.5853 - accuracy: 0.4816 - val_loss: 2.0395 - val_accuracy: 0.5050\n",
            "Epoch 20/100\n",
            "13/13 [==============================] - 1s 87ms/step - loss: 3.1324 - accuracy: 0.5005 - val_loss: 1.9612 - val_accuracy: 0.5100\n",
            "Epoch 21/100\n",
            "13/13 [==============================] - 1s 88ms/step - loss: 4.1626 - accuracy: 0.5178 - val_loss: 1.8860 - val_accuracy: 0.5150\n",
            "Epoch 22/100\n",
            "13/13 [==============================] - 1s 88ms/step - loss: 2.7586 - accuracy: 0.5074 - val_loss: 1.8195 - val_accuracy: 0.5150\n",
            "Epoch 23/100\n",
            "13/13 [==============================] - 1s 87ms/step - loss: 2.9013 - accuracy: 0.5233 - val_loss: 1.7611 - val_accuracy: 0.5200\n",
            "Epoch 24/100\n",
            "13/13 [==============================] - 1s 89ms/step - loss: 2.5919 - accuracy: 0.4877 - val_loss: 1.7050 - val_accuracy: 0.5150\n",
            "Epoch 25/100\n",
            "13/13 [==============================] - 1s 88ms/step - loss: 2.7067 - accuracy: 0.4896 - val_loss: 1.6461 - val_accuracy: 0.5150\n",
            "Epoch 26/100\n",
            "13/13 [==============================] - 1s 87ms/step - loss: 2.5500 - accuracy: 0.4886 - val_loss: 1.5903 - val_accuracy: 0.5100\n",
            "Epoch 27/100\n",
            "13/13 [==============================] - 1s 88ms/step - loss: 2.6729 - accuracy: 0.5066 - val_loss: 1.5310 - val_accuracy: 0.5200\n",
            "Epoch 28/100\n",
            "13/13 [==============================] - 1s 89ms/step - loss: 2.2081 - accuracy: 0.5023 - val_loss: 1.4807 - val_accuracy: 0.5150\n",
            "Epoch 29/100\n",
            "13/13 [==============================] - 1s 88ms/step - loss: 2.9158 - accuracy: 0.4564 - val_loss: 1.4307 - val_accuracy: 0.5250\n",
            "Epoch 30/100\n",
            "13/13 [==============================] - 1s 88ms/step - loss: 2.4476 - accuracy: 0.5168 - val_loss: 1.4066 - val_accuracy: 0.5250\n",
            "Epoch 31/100\n",
            "13/13 [==============================] - 1s 88ms/step - loss: 2.3123 - accuracy: 0.5079 - val_loss: 1.3784 - val_accuracy: 0.5200\n",
            "Epoch 32/100\n",
            "13/13 [==============================] - 1s 88ms/step - loss: 2.3348 - accuracy: 0.5033 - val_loss: 1.3376 - val_accuracy: 0.5150\n",
            "Epoch 33/100\n",
            "13/13 [==============================] - 1s 87ms/step - loss: 2.3385 - accuracy: 0.4694 - val_loss: 1.2998 - val_accuracy: 0.5150\n",
            "Epoch 34/100\n",
            "13/13 [==============================] - 1s 91ms/step - loss: 2.2090 - accuracy: 0.4896 - val_loss: 1.2637 - val_accuracy: 0.5150\n",
            "Epoch 35/100\n",
            "13/13 [==============================] - 1s 89ms/step - loss: 2.2642 - accuracy: 0.4622 - val_loss: 1.2270 - val_accuracy: 0.5150\n",
            "Epoch 36/100\n",
            "13/13 [==============================] - 1s 90ms/step - loss: 2.1971 - accuracy: 0.4738 - val_loss: 1.1927 - val_accuracy: 0.5150\n",
            "Epoch 37/100\n",
            "13/13 [==============================] - 1s 88ms/step - loss: 1.9139 - accuracy: 0.5305 - val_loss: 1.1487 - val_accuracy: 0.5250\n",
            "Epoch 38/100\n",
            "13/13 [==============================] - 1s 89ms/step - loss: 1.8756 - accuracy: 0.5043 - val_loss: 1.1115 - val_accuracy: 0.5250\n",
            "Epoch 39/100\n",
            "13/13 [==============================] - 1s 89ms/step - loss: 2.1980 - accuracy: 0.4995 - val_loss: 1.0850 - val_accuracy: 0.5250\n",
            "Epoch 40/100\n",
            "13/13 [==============================] - 1s 89ms/step - loss: 2.1433 - accuracy: 0.5109 - val_loss: 1.0655 - val_accuracy: 0.5300\n",
            "Epoch 41/100\n",
            "13/13 [==============================] - 1s 90ms/step - loss: 1.8997 - accuracy: 0.4880 - val_loss: 1.0501 - val_accuracy: 0.5200\n",
            "Epoch 42/100\n",
            "13/13 [==============================] - 1s 89ms/step - loss: 2.0628 - accuracy: 0.4849 - val_loss: 1.0319 - val_accuracy: 0.5250\n",
            "Epoch 43/100\n",
            "13/13 [==============================] - 1s 91ms/step - loss: 2.0102 - accuracy: 0.4903 - val_loss: 1.0143 - val_accuracy: 0.5350\n",
            "Epoch 44/100\n",
            "13/13 [==============================] - 1s 89ms/step - loss: 2.0207 - accuracy: 0.4913 - val_loss: 0.9993 - val_accuracy: 0.5350\n",
            "Epoch 45/100\n",
            "13/13 [==============================] - 1s 88ms/step - loss: 1.8974 - accuracy: 0.4833 - val_loss: 0.9810 - val_accuracy: 0.5400\n",
            "Epoch 46/100\n",
            "13/13 [==============================] - 1s 90ms/step - loss: 2.1499 - accuracy: 0.4853 - val_loss: 0.9659 - val_accuracy: 0.5450\n",
            "Epoch 47/100\n",
            "13/13 [==============================] - 1s 89ms/step - loss: 1.9977 - accuracy: 0.5027 - val_loss: 0.9546 - val_accuracy: 0.5500\n",
            "Epoch 48/100\n",
            "13/13 [==============================] - 1s 91ms/step - loss: 1.9534 - accuracy: 0.5028 - val_loss: 0.9471 - val_accuracy: 0.5500\n",
            "Epoch 49/100\n",
            "13/13 [==============================] - 1s 88ms/step - loss: 1.8178 - accuracy: 0.5206 - val_loss: 0.9342 - val_accuracy: 0.5550\n",
            "Epoch 50/100\n",
            "13/13 [==============================] - 1s 89ms/step - loss: 1.8077 - accuracy: 0.4790 - val_loss: 0.9234 - val_accuracy: 0.5650\n",
            "Epoch 51/100\n",
            "13/13 [==============================] - 1s 89ms/step - loss: 2.0314 - accuracy: 0.4976 - val_loss: 0.9204 - val_accuracy: 0.5650\n",
            "Epoch 52/100\n",
            "13/13 [==============================] - 1s 91ms/step - loss: 2.0293 - accuracy: 0.4660 - val_loss: 0.9142 - val_accuracy: 0.5600\n",
            "Epoch 53/100\n",
            "13/13 [==============================] - 1s 92ms/step - loss: 1.6877 - accuracy: 0.5091 - val_loss: 0.9070 - val_accuracy: 0.5500\n",
            "Epoch 54/100\n",
            "13/13 [==============================] - 1s 91ms/step - loss: 1.6568 - accuracy: 0.5305 - val_loss: 0.8964 - val_accuracy: 0.5500\n",
            "Epoch 55/100\n",
            "13/13 [==============================] - 1s 91ms/step - loss: 1.8354 - accuracy: 0.4898 - val_loss: 0.8887 - val_accuracy: 0.5450\n",
            "Epoch 56/100\n",
            "13/13 [==============================] - 1s 89ms/step - loss: 1.6263 - accuracy: 0.5181 - val_loss: 0.8821 - val_accuracy: 0.5400\n",
            "Epoch 57/100\n",
            "13/13 [==============================] - 1s 88ms/step - loss: 1.7888 - accuracy: 0.5099 - val_loss: 0.8740 - val_accuracy: 0.5300\n",
            "Epoch 58/100\n",
            "13/13 [==============================] - 1s 90ms/step - loss: 3.2960 - accuracy: 0.4702 - val_loss: 0.8707 - val_accuracy: 0.5300\n",
            "Epoch 59/100\n",
            "13/13 [==============================] - 1s 90ms/step - loss: 2.0065 - accuracy: 0.5316 - val_loss: 0.8865 - val_accuracy: 0.5250\n",
            "Epoch 60/100\n",
            "13/13 [==============================] - 1s 90ms/step - loss: 1.7398 - accuracy: 0.4923 - val_loss: 0.8845 - val_accuracy: 0.5250\n",
            "Epoch 61/100\n",
            "13/13 [==============================] - 1s 91ms/step - loss: 2.0790 - accuracy: 0.4641 - val_loss: 0.8779 - val_accuracy: 0.5250\n",
            "Epoch 62/100\n",
            "13/13 [==============================] - 1s 91ms/step - loss: 1.8019 - accuracy: 0.4870 - val_loss: 0.8697 - val_accuracy: 0.5200\n",
            "Epoch 63/100\n",
            "13/13 [==============================] - 1s 90ms/step - loss: 1.8584 - accuracy: 0.4907 - val_loss: 0.8628 - val_accuracy: 0.5200\n",
            "Epoch 64/100\n",
            "13/13 [==============================] - 1s 90ms/step - loss: 2.1142 - accuracy: 0.5261 - val_loss: 0.8611 - val_accuracy: 0.5200\n",
            "Epoch 65/100\n",
            "13/13 [==============================] - 1s 89ms/step - loss: 1.8283 - accuracy: 0.4798 - val_loss: 0.8598 - val_accuracy: 0.5200\n",
            "Epoch 66/100\n",
            "13/13 [==============================] - 1s 89ms/step - loss: 1.6735 - accuracy: 0.5131 - val_loss: 0.8549 - val_accuracy: 0.5200\n",
            "Epoch 67/100\n",
            "13/13 [==============================] - 1s 91ms/step - loss: 1.7410 - accuracy: 0.4909 - val_loss: 0.8477 - val_accuracy: 0.5300\n",
            "Epoch 68/100\n",
            "13/13 [==============================] - 1s 89ms/step - loss: 1.5861 - accuracy: 0.5242 - val_loss: 0.8424 - val_accuracy: 0.5300\n",
            "Epoch 69/100\n",
            "13/13 [==============================] - 1s 95ms/step - loss: 1.7011 - accuracy: 0.4983 - val_loss: 0.8380 - val_accuracy: 0.5300\n",
            "Epoch 70/100\n",
            "13/13 [==============================] - 1s 91ms/step - loss: 1.6300 - accuracy: 0.4950 - val_loss: 0.8350 - val_accuracy: 0.5300\n",
            "Epoch 71/100\n",
            "13/13 [==============================] - 1s 92ms/step - loss: 1.9024 - accuracy: 0.4719 - val_loss: 0.8325 - val_accuracy: 0.5250\n",
            "Epoch 72/100\n",
            "13/13 [==============================] - 1s 88ms/step - loss: 2.0037 - accuracy: 0.5180 - val_loss: 0.8347 - val_accuracy: 0.5300\n",
            "Epoch 73/100\n",
            "13/13 [==============================] - 1s 90ms/step - loss: 1.7511 - accuracy: 0.5137 - val_loss: 0.8318 - val_accuracy: 0.5350\n",
            "Epoch 74/100\n",
            "13/13 [==============================] - 1s 90ms/step - loss: 1.8482 - accuracy: 0.5064 - val_loss: 0.8318 - val_accuracy: 0.5350\n",
            "Epoch 75/100\n",
            "13/13 [==============================] - 1s 89ms/step - loss: 1.5733 - accuracy: 0.5100 - val_loss: 0.8304 - val_accuracy: 0.5350\n",
            "Epoch 76/100\n",
            "13/13 [==============================] - 1s 91ms/step - loss: 1.6746 - accuracy: 0.4949 - val_loss: 0.8312 - val_accuracy: 0.5300\n",
            "Epoch 77/100\n",
            "13/13 [==============================] - 1s 89ms/step - loss: 1.7077 - accuracy: 0.4743 - val_loss: 0.8356 - val_accuracy: 0.5300\n",
            "Epoch 78/100\n",
            "13/13 [==============================] - 1s 91ms/step - loss: 1.4704 - accuracy: 0.5618 - val_loss: 0.8326 - val_accuracy: 0.5250\n",
            "Epoch 79/100\n",
            "13/13 [==============================] - 1s 88ms/step - loss: 1.6530 - accuracy: 0.5051 - val_loss: 0.8290 - val_accuracy: 0.5200\n",
            "Epoch 80/100\n",
            "13/13 [==============================] - 1s 100ms/step - loss: 3.5875 - accuracy: 0.4948 - val_loss: 0.8280 - val_accuracy: 0.5200\n",
            "Epoch 81/100\n",
            "13/13 [==============================] - 1s 89ms/step - loss: 1.6978 - accuracy: 0.4930 - val_loss: 0.8254 - val_accuracy: 0.5250\n",
            "Epoch 82/100\n",
            "13/13 [==============================] - 1s 91ms/step - loss: 1.7417 - accuracy: 0.5092 - val_loss: 0.8286 - val_accuracy: 0.5300\n",
            "Epoch 83/100\n",
            "13/13 [==============================] - 1s 88ms/step - loss: 1.8182 - accuracy: 0.4740 - val_loss: 0.8312 - val_accuracy: 0.5250\n",
            "Epoch 84/100\n",
            "13/13 [==============================] - 1s 89ms/step - loss: 2.0542 - accuracy: 0.4957 - val_loss: 0.8384 - val_accuracy: 0.5250\n",
            "Epoch 85/100\n",
            "13/13 [==============================] - 1s 89ms/step - loss: 1.6233 - accuracy: 0.5191 - val_loss: 0.8392 - val_accuracy: 0.5250\n",
            "Epoch 86/100\n",
            "13/13 [==============================] - 1s 91ms/step - loss: 1.8403 - accuracy: 0.4869 - val_loss: 0.8369 - val_accuracy: 0.5250\n",
            "Epoch 87/100\n",
            "13/13 [==============================] - 1s 88ms/step - loss: 1.5594 - accuracy: 0.5228 - val_loss: 0.8336 - val_accuracy: 0.5250\n",
            "Epoch 88/100\n",
            "13/13 [==============================] - 1s 90ms/step - loss: 2.5344 - accuracy: 0.5066 - val_loss: 0.8352 - val_accuracy: 0.5200\n",
            "Epoch 89/100\n",
            "13/13 [==============================] - 1s 92ms/step - loss: 1.4500 - accuracy: 0.4897 - val_loss: 0.8329 - val_accuracy: 0.5200\n",
            "Epoch 90/100\n",
            "13/13 [==============================] - 1s 90ms/step - loss: 1.5679 - accuracy: 0.5074 - val_loss: 0.8301 - val_accuracy: 0.5250\n",
            "Epoch 91/100\n",
            "13/13 [==============================] - 1s 90ms/step - loss: 1.5696 - accuracy: 0.4968 - val_loss: 0.8262 - val_accuracy: 0.5250\n",
            "Epoch 92/100\n",
            "13/13 [==============================] - 1s 89ms/step - loss: 1.4413 - accuracy: 0.4727 - val_loss: 0.8231 - val_accuracy: 0.5250\n",
            "Epoch 93/100\n",
            "13/13 [==============================] - 1s 90ms/step - loss: 1.4924 - accuracy: 0.4969 - val_loss: 0.8183 - val_accuracy: 0.5200\n",
            "Epoch 94/100\n",
            "13/13 [==============================] - 1s 88ms/step - loss: 1.3505 - accuracy: 0.5439 - val_loss: 0.8131 - val_accuracy: 0.5200\n",
            "Epoch 95/100\n",
            "13/13 [==============================] - 1s 89ms/step - loss: 1.4986 - accuracy: 0.5379 - val_loss: 0.8101 - val_accuracy: 0.5200\n",
            "Epoch 96/100\n",
            "13/13 [==============================] - 1s 89ms/step - loss: 1.6740 - accuracy: 0.4908 - val_loss: 0.8079 - val_accuracy: 0.5200\n",
            "Epoch 97/100\n",
            "13/13 [==============================] - 1s 88ms/step - loss: 1.5676 - accuracy: 0.5187 - val_loss: 0.8068 - val_accuracy: 0.5200\n",
            "Epoch 98/100\n",
            "13/13 [==============================] - 1s 92ms/step - loss: 1.5554 - accuracy: 0.5060 - val_loss: 0.8062 - val_accuracy: 0.5200\n",
            "Epoch 99/100\n",
            "13/13 [==============================] - 1s 90ms/step - loss: 1.5313 - accuracy: 0.5150 - val_loss: 0.8062 - val_accuracy: 0.5250\n",
            "Epoch 100/100\n",
            "13/13 [==============================] - 1s 89ms/step - loss: 1.6375 - accuracy: 0.5066 - val_loss: 0.8089 - val_accuracy: 0.5250\n"
          ],
          "name": "stdout"
        },
        {
          "output_type": "execute_result",
          "data": {
            "text/plain": [
              "<tensorflow.python.keras.callbacks.History at 0x7ff3762e3710>"
            ]
          },
          "metadata": {
            "tags": []
          },
          "execution_count": 16
        }
      ]
    },
    {
      "cell_type": "code",
      "metadata": {
        "colab": {
          "base_uri": "https://localhost:8080/",
          "height": 283
        },
        "id": "tI95FrVjL1md",
        "outputId": "2854f1d6-a817-42ae-d22d-d0aead1bffa3"
      },
      "source": [
        "predictionsRNN = model2.predict(x_test)\r\n",
        "np.round(predictionsRNN)\r\n",
        "rounded_labels = np.argmax(y_test, axis=1)\r\n",
        "rounded_predictionsRNN = np.argmax(predictionsRNN, axis=1)\r\n",
        "cfRNN = confusion_matrix(rounded_labels,rounded_predictionsRNN)  # doctest: +SKIP\r\n",
        "sns.heatmap(cfRNN/np.sum(cfRNN), annot=True, fmt='.2%', cmap='Blues')"
      ],
      "execution_count": null,
      "outputs": [
        {
          "output_type": "execute_result",
          "data": {
            "text/plain": [
              "<matplotlib.axes._subplots.AxesSubplot at 0x7ff375c6b208>"
            ]
          },
          "metadata": {
            "tags": []
          },
          "execution_count": 17
        },
        {
          "output_type": "display_data",
          "data": {
            "image/png": "[encoded data removed]",
            "text/plain": [
              "<Figure size 432x288 with 2 Axes>"
            ]
          },
          "metadata": {
            "tags": [],
            "needs_background": "light"
          }
        }
      ]
    },
    {
      "cell_type": "code",
      "metadata": {
        "id": "jRZKfpNYMgjC"
      },
      "source": [
        "for layer in model.layers:\r\n",
        "  layer.trainable = False\r\n",
        "\r\n",
        "for layer in model2.layers:\r\n",
        "  layer.trainable = False"
      ],
      "execution_count": null,
      "outputs": []
    },
    {
      "cell_type": "code",
      "metadata": {
        "id": "mRiSoEKDMmT7"
      },
      "source": [
        "def createFeatureModel(modelCNN, modelRNN):\r\n",
        "  outputs = [modelCNN.layers[8].output,modelRNN.layers[6].output]\r\n",
        "  merge = concatenate(outputs)\r\n",
        "  featureModel = Model(inputs=modelCNN.input, outputs=merge)\r\n",
        "  return featureModel"
      ],
      "execution_count": null,
      "outputs": []
    },
    {
      "cell_type": "code",
      "metadata": {
        "id": "Y-Ue8-eyMu9K"
      },
      "source": [
        "def extractFeatures(model, data):\r\n",
        "  features = model.predict(data,verbose=0)\r\n",
        "  return features"
      ],
      "execution_count": null,
      "outputs": []
    },
    {
      "cell_type": "code",
      "metadata": {
        "colab": {
          "base_uri": "https://localhost:8080/"
        },
        "id": "kK64aYbdMx9y",
        "outputId": "54a97100-1549-4c12-f104-d80f0a327f12"
      },
      "source": [
        "featureModel = createFeatureModel(model,model2)\r\n",
        "train_features = extractFeatures(featureModel, train_data)\r\n",
        "test_features = extractFeatures(featureModel, x_test)\r\n",
        "print(train_features.shape, test_features.shape)"
      ],
      "execution_count": null,
      "outputs": [
        {
          "output_type": "stream",
          "text": [
            "(800, 180) (200, 180)\n"
          ],
          "name": "stdout"
        }
      ]
    },
    {
      "cell_type": "code",
      "metadata": {
        "colab": {
          "base_uri": "https://localhost:8080/"
        },
        "id": "AXdvgR1_Nie5",
        "outputId": "77969535-22d5-458c-9ba8-792f6b96db7e"
      },
      "source": [
        "from sklearn.preprocessing import StandardScaler\r\n",
        "standardData = StandardScaler().fit_transform(train_features)\r\n",
        "print(standardData.shape,np.mean(standardData),np.std(standardData))"
      ],
      "execution_count": null,
      "outputs": [
        {
          "output_type": "stream",
          "text": [
            "(800, 180) -1.0596382e-09 0.89752746\n"
          ],
          "name": "stdout"
        }
      ]
    },
    {
      "cell_type": "code",
      "metadata": {
        "id": "asv9rru_OQBP"
      },
      "source": [
        "from sklearn.decomposition import PCA\r\n",
        "pca = PCA(n_components=2)\r\n",
        "principal_components = pca.fit_transform(standardData)"
      ],
      "execution_count": null,
      "outputs": []
    },
    {
      "cell_type": "code",
      "metadata": {
        "colab": {
          "base_uri": "https://localhost:8080/"
        },
        "id": "w1FI3KRJQWgh",
        "outputId": "5ed0c0b4-37ce-4569-c23b-35d20d5c0b71"
      },
      "source": [
        "print(pca.explained_variance_ratio_)"
      ],
      "execution_count": null,
      "outputs": [
        {
          "output_type": "stream",
          "text": [
            "[0.56981754 0.10094901]\n"
          ],
          "name": "stdout"
        }
      ]
    },
    {
      "cell_type": "code",
      "metadata": {
        "colab": {
          "base_uri": "https://localhost:8080/"
        },
        "id": "4FaWyXnMcsyV",
        "outputId": "e08133dd-26ea-469f-df98-056e6fe4cb3c"
      },
      "source": [
        "print(principal_components.shape,principal_components)"
      ],
      "execution_count": null,
      "outputs": [
        {
          "output_type": "stream",
          "text": [
            "(800, 2) [[-0.18291597 -0.8857651 ]\n",
            " [-0.3129125  -0.0605806 ]\n",
            " [-0.12366056  0.06674364]\n",
            " ...\n",
            " [ 4.1064377  30.137459  ]\n",
            " [-0.97129416 -1.227266  ]\n",
            " [-0.66073054 -1.2712132 ]]\n"
          ],
          "name": "stdout"
        }
      ]
    },
    {
      "cell_type": "code",
      "metadata": {
        "id": "3cPuw8ZLiwqo",
        "colab": {
          "base_uri": "https://localhost:8080/"
        },
        "outputId": "7107fad6-5fb1-43ad-a05f-da5e48bce6de"
      },
      "source": [
        "print(principal_components.shape)"
      ],
      "execution_count": null,
      "outputs": [
        {
          "output_type": "stream",
          "text": [
            "(800, 2)\n"
          ],
          "name": "stdout"
        }
      ]
    },
    {
      "cell_type": "code",
      "metadata": {
        "colab": {
          "base_uri": "https://localhost:8080/"
        },
        "id": "Ga16mTradBlB",
        "outputId": "589ae4c6-67d5-4c7f-8050-74d7e93a9c01"
      },
      "source": [
        "c1 = []\r\n",
        "c2 = []\r\n",
        "for i in range(len(train_labels)):\r\n",
        "    output_class = np.argmax(train_labels[i])\r\n",
        "    if(output_class == 0):\r\n",
        "        c1.append(principal_components[i])\r\n",
        "    else:\r\n",
        "        c2.append(principal_components[i])\r\n",
        "c1, c2 = np.array(c1), np.array(c2)\r\n",
        "print(c1.shape,c2.shape)"
      ],
      "execution_count": null,
      "outputs": [
        {
          "output_type": "stream",
          "text": [
            "(401, 2) (399, 2)\n"
          ],
          "name": "stdout"
        }
      ]
    },
    {
      "cell_type": "code",
      "metadata": {
        "colab": {
          "base_uri": "https://localhost:8080/",
          "height": 676
        },
        "id": "nmB51tZybQ5E",
        "outputId": "458d84e6-d991-40bf-fb54-2a8874c4e25a"
      },
      "source": [
        "plt.figure()\r\n",
        "plt.figure(figsize=(10,10))\r\n",
        "plt.xticks(fontsize=12)\r\n",
        "plt.yticks(fontsize=14)\r\n",
        "plt.xlabel('Principal Component - 1',fontsize=20)\r\n",
        "plt.ylabel('Principal Component - 2',fontsize=20)\r\n",
        "plt.title(\"Principal Component Analysis of EEG waves\",fontsize=20)\r\n",
        "targets = ['Cooperate', 'Independent']\r\n",
        "plt.scatter(c1[:,[0]], c1[:,[1]], c = 'r', s = 50)\r\n",
        "plt.scatter(c2[:,[0]], c2[:,[1]], c = 'b', s = 50)\r\n",
        "\r\n",
        "plt.legend(targets,prop={'size': 15})"
      ],
      "execution_count": null,
      "outputs": [
        {
          "output_type": "execute_result",
          "data": {
            "text/plain": [
              "<matplotlib.legend.Legend at 0x7ff3650802e8>"
            ]
          },
          "metadata": {
            "tags": []
          },
          "execution_count": 39
        },
        {
          "output_type": "display_data",
          "data": {
            "text/plain": [
              "<Figure size 432x288 with 0 Axes>"
            ]
          },
          "metadata": {
            "tags": []
          }
        },
        {
          "output_type": "display_data",
          "data": {
            "image/png": "[encoded data removed]",
            "text/plain": [
              "<Figure size 720x720 with 1 Axes>"
            ]
          },
          "metadata": {
            "tags": [],
            "needs_background": "light"
          }
        }
      ]
    },
    {
      "cell_type": "code",
      "metadata": {
        "id": "iKhIw-xVUo0e"
      },
      "source": [
        "color_intermediates = []\r\n",
        "for i in range(len(train_labels)):\r\n",
        "    output_class = np.argmax(train_labels[i])\r\n",
        "    if(output_class == 0):\r\n",
        "        color_intermediates.append(\"#0000ff\")\r\n",
        "    else:\r\n",
        "        color_intermediates.append(\"#ff0000\")"
      ],
      "execution_count": null,
      "outputs": []
    },
    {
      "cell_type": "code",
      "metadata": {
        "id": "XW3pe1JnQkp8"
      },
      "source": [
        "from sklearn.manifold import TSNE\r\n",
        "tsne = TSNE(n_components=2, random_state=0)\r\n",
        "intermediates_tsne = tsne.fit_transform(train_features)"
      ],
      "execution_count": null,
      "outputs": []
    },
    {
      "cell_type": "code",
      "metadata": {
        "colab": {
          "base_uri": "https://localhost:8080/",
          "height": 483
        },
        "id": "JLk1fwMaV2Lq",
        "outputId": "1e0201ff-eb8b-4f0e-c587-4342e6e1e6cc"
      },
      "source": [
        "plt.figure(figsize=(8, 8))\r\n",
        "plt.scatter(x = intermediates_tsne[:,0], y=intermediates_tsne[:,1], color=color_intermediates)\r\n",
        "plt.show()"
      ],
      "execution_count": null,
      "outputs": [
        {
          "output_type": "display_data",
          "data": {
            "image/png": "[encoded data removed]",
            "text/plain": [
              "<Figure size 576x576 with 1 Axes>"
            ]
          },
          "metadata": {
            "tags": [],
            "needs_background": "light"
          }
        }
      ]
    },
    {
      "cell_type": "code",
      "metadata": {
        "id": "A9eXPozqV8wP"
      },
      "source": [
        ""
      ],
      "execution_count": null,
      "outputs": []
    }
  ]
}